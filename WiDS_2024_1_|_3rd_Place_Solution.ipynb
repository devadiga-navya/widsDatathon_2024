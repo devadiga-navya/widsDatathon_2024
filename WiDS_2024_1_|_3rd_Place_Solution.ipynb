{
  "metadata": {
    "kaggle": {
      "accelerator": "none",
      "dataSources": [
        {
          "sourceId": 65862,
          "databundleVersionId": 7469115,
          "sourceType": "competition"
        }
      ],
      "isInternetEnabled": true,
      "language": "python",
      "sourceType": "notebook",
      "isGpuEnabled": false
    },
    "kernelspec": {
      "display_name": "Python 3",
      "language": "python",
      "name": "python3"
    },
    "language_info": {
      "codemirror_mode": {
        "name": "ipython",
        "version": 3
      },
      "file_extension": ".py",
      "mimetype": "text/x-python",
      "name": "python",
      "nbconvert_exporter": "python",
      "pygments_lexer": "ipython3",
      "version": "3.10.12"
    },
    "papermill": {
      "default_parameters": {},
      "duration": 748.405939,
      "end_time": "2024-02-29T01:12:05.030145",
      "environment_variables": {},
      "exception": null,
      "input_path": "__notebook__.ipynb",
      "output_path": "__notebook__.ipynb",
      "parameters": {},
      "start_time": "2024-02-29T00:59:36.624206",
      "version": "2.4.0"
    },
    "colab": {
      "name": "WiDS 2024 #1 | 3rd Place Solution",
      "provenance": [],
      "include_colab_link": true
    }
  },
  "nbformat_minor": 0,
  "nbformat": 4,
  "cells": [
    {
      "cell_type": "markdown",
      "metadata": {
        "id": "view-in-github",
        "colab_type": "text"
      },
      "source": [
        "<a href=\"https://colab.research.google.com/github/devadiga-navya/widsDatathon_2024/blob/main/WiDS_2024_1_%7C_3rd_Place_Solution.ipynb\" target=\"_parent\"><img src=\"https://colab.research.google.com/assets/colab-badge.svg\" alt=\"Open In Colab\"/></a>"
      ]
    },
    {
      "source": [
        "\n",
        "# IMPORTANT: RUN THIS CELL IN ORDER TO IMPORT YOUR KAGGLE DATA SOURCES\n",
        "# TO THE CORRECT LOCATION (/kaggle/input) IN YOUR NOTEBOOK,\n",
        "# THEN FEEL FREE TO DELETE THIS CELL.\n",
        "# NOTE: THIS NOTEBOOK ENVIRONMENT DIFFERS FROM KAGGLE'S PYTHON\n",
        "# ENVIRONMENT SO THERE MAY BE MISSING LIBRARIES USED BY YOUR\n",
        "# NOTEBOOK.\n",
        "\n",
        "import os\n",
        "import sys\n",
        "from tempfile import NamedTemporaryFile\n",
        "from urllib.request import urlopen\n",
        "from urllib.parse import unquote, urlparse\n",
        "from urllib.error import HTTPError\n",
        "from zipfile import ZipFile\n",
        "import tarfile\n",
        "import shutil\n",
        "\n",
        "CHUNK_SIZE = 40960\n",
        "DATA_SOURCE_MAPPING = 'widsdatathon2024-challenge1:https%3A%2F%2Fstorage.googleapis.com%2Fkaggle-competitions-data%2Fkaggle-v2%2F65862%2F7469115%2Fbundle%2Farchive.zip%3FX-Goog-Algorithm%3DGOOG4-RSA-SHA256%26X-Goog-Credential%3Dgcp-kaggle-com%2540kaggle-161607.iam.gserviceaccount.com%252F20240302%252Fauto%252Fstorage%252Fgoog4_request%26X-Goog-Date%3D20240302T074401Z%26X-Goog-Expires%3D259200%26X-Goog-SignedHeaders%3Dhost%26X-Goog-Signature%3D698afa538a2e5b7b6bcc9a0877afce4b4d67290f8046f6dfd97918de96ba302f12d19c4687d18445b242d753f969fc2d69674e411d2e524b655c3aacf55a8d77e988ff0fc2fdfaea8114737a7c3591559429c0b9939a1c08e40ae7a0735ae5e110f0027ab52f0ca1e01fbd523f6da832837868bf877f33d990ab585864a71cbd0d9e5e5037b7e3b1c871cd0afb21094cf702f246d06e4346943508c43cfdd38214b350351d5c0e827fe035866dc808979b19745d53edb64d02cf483ec533a32ee763ad9d13f87475a1b06fe07b052df0503200982f8d481d49c714fec0ebf2b75d0e0a339e5450be9c07534c47f9254b76a01990217cdd941e17463e887cd399'\n",
        "\n",
        "KAGGLE_INPUT_PATH='/kaggle/input'\n",
        "KAGGLE_WORKING_PATH='/kaggle/working'\n",
        "KAGGLE_SYMLINK='kaggle'\n",
        "\n",
        "!umount /kaggle/input/ 2> /dev/null\n",
        "shutil.rmtree('/kaggle/input', ignore_errors=True)\n",
        "os.makedirs(KAGGLE_INPUT_PATH, 0o777, exist_ok=True)\n",
        "os.makedirs(KAGGLE_WORKING_PATH, 0o777, exist_ok=True)\n",
        "\n",
        "try:\n",
        "  os.symlink(KAGGLE_INPUT_PATH, os.path.join(\"..\", 'input'), target_is_directory=True)\n",
        "except FileExistsError:\n",
        "  pass\n",
        "try:\n",
        "  os.symlink(KAGGLE_WORKING_PATH, os.path.join(\"..\", 'working'), target_is_directory=True)\n",
        "except FileExistsError:\n",
        "  pass\n",
        "\n",
        "for data_source_mapping in DATA_SOURCE_MAPPING.split(','):\n",
        "    directory, download_url_encoded = data_source_mapping.split(':')\n",
        "    download_url = unquote(download_url_encoded)\n",
        "    filename = urlparse(download_url).path\n",
        "    destination_path = os.path.join(KAGGLE_INPUT_PATH, directory)\n",
        "    try:\n",
        "        with urlopen(download_url) as fileres, NamedTemporaryFile() as tfile:\n",
        "            total_length = fileres.headers['content-length']\n",
        "            print(f'Downloading {directory}, {total_length} bytes compressed')\n",
        "            dl = 0\n",
        "            data = fileres.read(CHUNK_SIZE)\n",
        "            while len(data) > 0:\n",
        "                dl += len(data)\n",
        "                tfile.write(data)\n",
        "                done = int(50 * dl / int(total_length))\n",
        "                sys.stdout.write(f\"\\r[{'=' * done}{' ' * (50-done)}] {dl} bytes downloaded\")\n",
        "                sys.stdout.flush()\n",
        "                data = fileres.read(CHUNK_SIZE)\n",
        "            if filename.endswith('.zip'):\n",
        "              with ZipFile(tfile) as zfile:\n",
        "                zfile.extractall(destination_path)\n",
        "            else:\n",
        "              with tarfile.open(tfile.name) as tarfile:\n",
        "                tarfile.extractall(destination_path)\n",
        "            print(f'\\nDownloaded and uncompressed: {directory}')\n",
        "    except HTTPError as e:\n",
        "        print(f'Failed to load (likely expired) {download_url} to path {destination_path}')\n",
        "        continue\n",
        "    except OSError as e:\n",
        "        print(f'Failed to load {download_url} to path {destination_path}')\n",
        "        continue\n",
        "\n",
        "print('Data source import complete.')\n"
      ],
      "metadata": {
        "id": "UT1Ll7UoIm67"
      },
      "cell_type": "code",
      "outputs": [],
      "execution_count": null
    },
    {
      "cell_type": "markdown",
      "source": [
        "# Loading Libraries and Datasets"
      ],
      "metadata": {
        "papermill": {
          "duration": 0.032674,
          "end_time": "2024-02-29T00:59:40.79606",
          "exception": false,
          "start_time": "2024-02-29T00:59:40.763386",
          "status": "completed"
        },
        "tags": [],
        "id": "94EuD8IaIm68"
      }
    },
    {
      "cell_type": "code",
      "source": [
        "import numpy as np\n",
        "import pandas as pd\n",
        "import matplotlib.pyplot as plt\n",
        "import seaborn as sns\n",
        "import tensorflow as tf\n",
        "import optuna\n",
        "import re\n",
        "\n",
        "from category_encoders import OneHotEncoder, MEstimateEncoder, CatBoostEncoder\n",
        "from sklearn import set_config\n",
        "from sklearn.inspection import permutation_importance\n",
        "from sklearn.model_selection import StratifiedKFold, RepeatedStratifiedKFold\n",
        "from sklearn.ensemble import RandomForestRegressor\n",
        "from sklearn.metrics import roc_auc_score, roc_curve, make_scorer, f1_score, accuracy_score\n",
        "from sklearn.impute import SimpleImputer, KNNImputer\n",
        "from sklearn.decomposition import TruncatedSVD\n",
        "from sklearn.pipeline import Pipeline, make_pipeline\n",
        "from sklearn.base import BaseEstimator, TransformerMixin, clone, ClassifierMixin\n",
        "from sklearn.preprocessing import FunctionTransformer, StandardScaler, PowerTransformer, MinMaxScaler\n",
        "from sklearn.feature_extraction.text import TfidfVectorizer\n",
        "from sklearn.kernel_approximation import Nystroem\n",
        "from sklearn.linear_model import LogisticRegression, RidgeClassifier, Perceptron, SGDClassifier\n",
        "from sklearn.tree import DecisionTreeClassifier, ExtraTreeClassifier\n",
        "from sklearn.svm import LinearSVC, SVC\n",
        "from sklearn.naive_bayes import GaussianNB, BernoulliNB\n",
        "from sklearn.neighbors import KNeighborsClassifier\n",
        "from sklearn.ensemble import RandomForestClassifier, ExtraTreesClassifier\n",
        "from sklearn.ensemble import HistGradientBoostingClassifier, GradientBoostingClassifier, AdaBoostClassifier\n",
        "from sklearn.ensemble import VotingClassifier, StackingClassifier\n",
        "from sklearn.gaussian_process import GaussianProcessClassifier\n",
        "from sklearn.svm import SVC\n",
        "from sklearn.neighbors import KNeighborsClassifier\n",
        "from sklearn.discriminant_analysis import LinearDiscriminantAnalysis, QuadraticDiscriminantAnalysis\n",
        "from sklearn.gaussian_process import GaussianProcessClassifier\n",
        "from scipy.cluster.hierarchy import dendrogram, linkage\n",
        "from scipy.spatial.distance import squareform\n",
        "from xgboost import XGBClassifier, XGBRFClassifier\n",
        "from lightgbm import LGBMClassifier\n",
        "from catboost import CatBoostClassifier\n",
        "\n",
        "sns.set_theme(style = 'white', palette = 'viridis')\n",
        "pal = sns.color_palette('viridis')\n",
        "\n",
        "pd.set_option('display.max_rows', 100)\n",
        "set_config(transform_output = 'pandas')\n",
        "pd.options.mode.chained_assignment = None\n",
        "#optuna.logging.set_verbosity(optuna.logging.WARNING)"
      ],
      "metadata": {
        "_kg_hide-input": false,
        "_kg_hide-output": true,
        "execution": {
          "iopub.execute_input": "2024-02-29T00:59:40.863449Z",
          "iopub.status.busy": "2024-02-29T00:59:40.863064Z",
          "iopub.status.idle": "2024-02-29T01:00:00.613715Z",
          "shell.execute_reply": "2024-02-29T01:00:00.612479Z"
        },
        "papermill": {
          "duration": 19.787016,
          "end_time": "2024-02-29T01:00:00.616706",
          "exception": false,
          "start_time": "2024-02-29T00:59:40.82969",
          "status": "completed"
        },
        "tags": [],
        "id": "4FZs6v7LIm6-"
      },
      "execution_count": null,
      "outputs": []
    },
    {
      "cell_type": "code",
      "source": [
        "train = pd.read_csv(r'/kaggle/input/widsdatathon2024-challenge1/training.csv', index_col = 'patient_id')\n",
        "test = pd.read_csv(r'/kaggle/input/widsdatathon2024-challenge1/test.csv', index_col = 'patient_id')"
      ],
      "metadata": {
        "_kg_hide-input": false,
        "execution": {
          "iopub.execute_input": "2024-02-29T01:00:00.684273Z",
          "iopub.status.busy": "2024-02-29T01:00:00.683145Z",
          "iopub.status.idle": "2024-02-29T01:00:01.287362Z",
          "shell.execute_reply": "2024-02-29T01:00:01.286311Z"
        },
        "papermill": {
          "duration": 0.641018,
          "end_time": "2024-02-29T01:00:01.290274",
          "exception": false,
          "start_time": "2024-02-29T01:00:00.649256",
          "status": "completed"
        },
        "tags": [],
        "id": "ATpiLKUwIm6-"
      },
      "execution_count": null,
      "outputs": []
    },
    {
      "cell_type": "markdown",
      "source": [
        "# Descriptive Statistics\n",
        "\n",
        "Let's begin by taking a peek at our training dataset first"
      ],
      "metadata": {
        "papermill": {
          "duration": 0.032259,
          "end_time": "2024-02-29T01:00:01.355555",
          "exception": false,
          "start_time": "2024-02-29T01:00:01.323296",
          "status": "completed"
        },
        "tags": [],
        "id": "b-G70QiAIm6_"
      }
    },
    {
      "cell_type": "code",
      "source": [
        "train.head(10)"
      ],
      "metadata": {
        "_kg_hide-input": true,
        "execution": {
          "iopub.execute_input": "2024-02-29T01:00:01.487331Z",
          "iopub.status.busy": "2024-02-29T01:00:01.486888Z",
          "iopub.status.idle": "2024-02-29T01:00:01.527804Z",
          "shell.execute_reply": "2024-02-29T01:00:01.526709Z"
        },
        "papermill": {
          "duration": 0.077872,
          "end_time": "2024-02-29T01:00:01.530727",
          "exception": false,
          "start_time": "2024-02-29T01:00:01.452855",
          "status": "completed"
        },
        "tags": [],
        "id": "uOQozLtKIm6_"
      },
      "execution_count": null,
      "outputs": []
    },
    {
      "cell_type": "code",
      "source": [
        "desc = pd.DataFrame(index = list(train))\n",
        "desc['type'] = train.dtypes\n",
        "desc['count'] = train.count()\n",
        "desc['nunique'] = train.nunique()\n",
        "desc['%unique'] = desc['nunique'] / len(train) * 100\n",
        "desc['null'] = train.isnull().sum()\n",
        "desc['%null'] = desc['null'] / len(train) * 100\n",
        "#desc['min'] = train.min()\n",
        "#desc['max'] = train.max()\n",
        "desc"
      ],
      "metadata": {
        "_kg_hide-input": true,
        "execution": {
          "iopub.execute_input": "2024-02-29T01:00:01.599855Z",
          "iopub.status.busy": "2024-02-29T01:00:01.599422Z",
          "iopub.status.idle": "2024-02-29T01:00:01.709262Z",
          "shell.execute_reply": "2024-02-29T01:00:01.708001Z"
        },
        "papermill": {
          "duration": 0.147666,
          "end_time": "2024-02-29T01:00:01.71215",
          "exception": false,
          "start_time": "2024-02-29T01:00:01.564484",
          "status": "completed"
        },
        "tags": [],
        "id": "pZu9GZ3kIm6_"
      },
      "execution_count": null,
      "outputs": []
    },
    {
      "cell_type": "code",
      "source": [
        "test.head(10)"
      ],
      "metadata": {
        "_kg_hide-input": true,
        "execution": {
          "iopub.execute_input": "2024-02-29T01:00:01.78417Z",
          "iopub.status.busy": "2024-02-29T01:00:01.78345Z",
          "iopub.status.idle": "2024-02-29T01:00:01.816499Z",
          "shell.execute_reply": "2024-02-29T01:00:01.815212Z"
        },
        "papermill": {
          "duration": 0.071795,
          "end_time": "2024-02-29T01:00:01.819301",
          "exception": false,
          "start_time": "2024-02-29T01:00:01.747506",
          "status": "completed"
        },
        "tags": [],
        "id": "-0o3lMZIIm6_"
      },
      "execution_count": null,
      "outputs": []
    },
    {
      "cell_type": "code",
      "source": [
        "desc = pd.DataFrame(index = list(test))\n",
        "desc['type'] = test.dtypes\n",
        "desc['count'] = test.count()\n",
        "desc['nunique'] = test.nunique()\n",
        "desc['%unique'] = desc['nunique'] / len(test) * 100\n",
        "desc['null'] = test.isnull().sum()\n",
        "desc['%null'] = desc['null'] / len(test) * 100\n",
        "#desc['min'] = test.min()\n",
        "#desc['max'] = test.max()\n",
        "desc"
      ],
      "metadata": {
        "_kg_hide-input": true,
        "execution": {
          "iopub.execute_input": "2024-02-29T01:00:01.892125Z",
          "iopub.status.busy": "2024-02-29T01:00:01.891683Z",
          "iopub.status.idle": "2024-02-29T01:00:01.965228Z",
          "shell.execute_reply": "2024-02-29T01:00:01.964009Z"
        },
        "papermill": {
          "duration": 0.113701,
          "end_time": "2024-02-29T01:00:01.968414",
          "exception": false,
          "start_time": "2024-02-29T01:00:01.854713",
          "status": "completed"
        },
        "tags": [],
        "id": "_eD87zS6Im7A"
      },
      "execution_count": null,
      "outputs": []
    },
    {
      "cell_type": "code",
      "source": [
        "numerical_features = list(test._get_numeric_data())\n",
        "categorical_features = list(test.select_dtypes('object'))"
      ],
      "metadata": {
        "execution": {
          "iopub.execute_input": "2024-02-29T01:00:02.045884Z",
          "iopub.status.busy": "2024-02-29T01:00:02.045453Z",
          "iopub.status.idle": "2024-02-29T01:00:02.052485Z",
          "shell.execute_reply": "2024-02-29T01:00:02.051629Z"
        },
        "papermill": {
          "duration": 0.048449,
          "end_time": "2024-02-29T01:00:02.054835",
          "exception": false,
          "start_time": "2024-02-29T01:00:02.006386",
          "status": "completed"
        },
        "tags": [],
        "id": "3cX9KyoHIm7A"
      },
      "execution_count": null,
      "outputs": []
    },
    {
      "cell_type": "markdown",
      "source": [
        "# Adversarial Validation"
      ],
      "metadata": {
        "papermill": {
          "duration": 0.03653,
          "end_time": "2024-02-29T01:00:02.130383",
          "exception": false,
          "start_time": "2024-02-29T01:00:02.093853",
          "status": "completed"
        },
        "tags": [],
        "id": "L6j3IRQdIm7B"
      }
    },
    {
      "cell_type": "code",
      "source": [
        "def adversarial_validation(dataset_1 = train, dataset_2 = test, target = [], label = 'Train-Test'):\n",
        "\n",
        "    adv_train = dataset_1.drop(target, axis = 1)\n",
        "    adv_test = dataset_2.copy()\n",
        "\n",
        "    adv_train['is_test'] = 0\n",
        "    adv_test['is_test'] = 1\n",
        "\n",
        "    adv = pd.concat([adv_train, adv_test], ignore_index = True)\n",
        "\n",
        "    adv_shuffled = adv.sample(frac = 1)\n",
        "\n",
        "    adv_X = adv_shuffled.drop('is_test', axis = 1)\n",
        "    adv_y = adv_shuffled.is_test\n",
        "\n",
        "    skf = StratifiedKFold(n_splits = 10, random_state = 42, shuffle = True)\n",
        "\n",
        "    val_scores = []\n",
        "    predictions = np.zeros(len(adv))\n",
        "\n",
        "    for fold, (train_idx, val_idx) in enumerate(skf.split(adv_X, adv_y)):\n",
        "\n",
        "        adv_lr = make_pipeline(MEstimateEncoder(cols = categorical_features), XGBClassifier(random_state = 42))\n",
        "        adv_lr.fit(adv_X.iloc[train_idx], adv_y.iloc[train_idx])\n",
        "\n",
        "        val_preds = adv_lr.predict_proba(adv_X.iloc[val_idx])[:,1]\n",
        "        predictions[val_idx] = val_preds\n",
        "        val_score = roc_auc_score(adv_y.iloc[val_idx], val_preds)\n",
        "        val_scores.append(val_score)\n",
        "\n",
        "    fpr, tpr, _ = roc_curve(adv['is_test'], predictions)\n",
        "\n",
        "    plt.figure(figsize = (10, 10), dpi = 300)\n",
        "    sns.lineplot(x=[0, 1], y=[0, 1], linestyle=\"--\", label=\"Indistinguishable Datasets\")\n",
        "    sns.lineplot(x=fpr, y=tpr, label=\"Adversarial Validation Classifier\")\n",
        "    plt.title(f'{label} Validation = {np.mean(val_scores):.5f}', weight = 'bold', size = 17)\n",
        "    plt.xlabel('False Positive Rate')\n",
        "    plt.ylabel('True Positive Rate')\n",
        "    plt.show()"
      ],
      "metadata": {
        "execution": {
          "iopub.execute_input": "2024-02-29T01:00:02.20547Z",
          "iopub.status.busy": "2024-02-29T01:00:02.205081Z",
          "iopub.status.idle": "2024-02-29T01:00:02.218221Z",
          "shell.execute_reply": "2024-02-29T01:00:02.217008Z"
        },
        "papermill": {
          "duration": 0.053495,
          "end_time": "2024-02-29T01:00:02.220663",
          "exception": false,
          "start_time": "2024-02-29T01:00:02.167168",
          "status": "completed"
        },
        "tags": [],
        "id": "eWpPAZajIm7B"
      },
      "execution_count": null,
      "outputs": []
    },
    {
      "cell_type": "code",
      "source": [
        "#adversarial_validation()"
      ],
      "metadata": {
        "execution": {
          "iopub.execute_input": "2024-02-29T01:00:02.296103Z",
          "iopub.status.busy": "2024-02-29T01:00:02.295661Z",
          "iopub.status.idle": "2024-02-29T01:00:02.300577Z",
          "shell.execute_reply": "2024-02-29T01:00:02.29937Z"
        },
        "papermill": {
          "duration": 0.045613,
          "end_time": "2024-02-29T01:00:02.303134",
          "exception": false,
          "start_time": "2024-02-29T01:00:02.257521",
          "status": "completed"
        },
        "tags": [],
        "id": "WX0E0E_TIm7B"
      },
      "execution_count": null,
      "outputs": []
    },
    {
      "cell_type": "markdown",
      "source": [
        "# Corr"
      ],
      "metadata": {
        "papermill": {
          "duration": 0.035985,
          "end_time": "2024-02-29T01:00:02.37648",
          "exception": false,
          "start_time": "2024-02-29T01:00:02.340495",
          "status": "completed"
        },
        "tags": [],
        "id": "4AeJx89ZIm7B"
      }
    },
    {
      "cell_type": "code",
      "source": [
        "def heatmap(dataset, label = None):\n",
        "    corr = dataset.corr(method = 'spearman')\n",
        "    plt.figure(figsize = (25, 25), dpi = 300)\n",
        "    mask = np.zeros_like(corr)\n",
        "    mask[np.triu_indices_from(mask)] = True\n",
        "    sns.heatmap(corr, mask = mask, cmap = 'viridis', annot = True, annot_kws = {'size' : 5})\n",
        "    plt.title(f'{label} Dataset Correlation Matrix\\n', fontsize = 25, weight = 'bold')\n",
        "    plt.show()"
      ],
      "metadata": {
        "execution": {
          "iopub.execute_input": "2024-02-29T01:00:02.452891Z",
          "iopub.status.busy": "2024-02-29T01:00:02.45176Z",
          "iopub.status.idle": "2024-02-29T01:00:02.45936Z",
          "shell.execute_reply": "2024-02-29T01:00:02.458316Z"
        },
        "papermill": {
          "duration": 0.048862,
          "end_time": "2024-02-29T01:00:02.461727",
          "exception": false,
          "start_time": "2024-02-29T01:00:02.412865",
          "status": "completed"
        },
        "tags": [],
        "id": "455O9Ew7Im7B"
      },
      "execution_count": null,
      "outputs": []
    },
    {
      "cell_type": "code",
      "source": [
        "#heatmap(train[numerical_features])"
      ],
      "metadata": {
        "execution": {
          "iopub.execute_input": "2024-02-29T01:00:02.537069Z",
          "iopub.status.busy": "2024-02-29T01:00:02.536597Z",
          "iopub.status.idle": "2024-02-29T01:00:02.541419Z",
          "shell.execute_reply": "2024-02-29T01:00:02.539905Z"
        },
        "papermill": {
          "duration": 0.045282,
          "end_time": "2024-02-29T01:00:02.543739",
          "exception": false,
          "start_time": "2024-02-29T01:00:02.498457",
          "status": "completed"
        },
        "tags": [],
        "id": "UtPjRYigIm7C"
      },
      "execution_count": null,
      "outputs": []
    },
    {
      "cell_type": "code",
      "source": [
        "def distance(data, label = ''):\n",
        "    #thanks to @sergiosaharovsky for the fix\n",
        "    corr = data.corr(method = 'spearman')\n",
        "    dist_linkage = linkage(squareform(1 - abs(corr)), 'complete')\n",
        "\n",
        "    plt.figure(figsize = (10, 8), dpi = 300)\n",
        "    dendro = dendrogram(dist_linkage, labels=data.columns, leaf_rotation=90)\n",
        "    plt.title(f'Feature Distance in {label} Dataset', weight = 'bold', size = 20)\n",
        "    plt.show()"
      ],
      "metadata": {
        "execution": {
          "iopub.execute_input": "2024-02-29T01:00:02.619148Z",
          "iopub.status.busy": "2024-02-29T01:00:02.618696Z",
          "iopub.status.idle": "2024-02-29T01:00:02.625303Z",
          "shell.execute_reply": "2024-02-29T01:00:02.624478Z"
        },
        "papermill": {
          "duration": 0.047103,
          "end_time": "2024-02-29T01:00:02.627603",
          "exception": false,
          "start_time": "2024-02-29T01:00:02.5805",
          "status": "completed"
        },
        "tags": [],
        "id": "DWFEdmhOIm7C"
      },
      "execution_count": null,
      "outputs": []
    },
    {
      "cell_type": "code",
      "source": [
        "#distance(train[numerical_features])"
      ],
      "metadata": {
        "execution": {
          "iopub.execute_input": "2024-02-29T01:00:02.703589Z",
          "iopub.status.busy": "2024-02-29T01:00:02.702849Z",
          "iopub.status.idle": "2024-02-29T01:00:02.706726Z",
          "shell.execute_reply": "2024-02-29T01:00:02.705982Z"
        },
        "papermill": {
          "duration": 0.04477,
          "end_time": "2024-02-29T01:00:02.708906",
          "exception": false,
          "start_time": "2024-02-29T01:00:02.664136",
          "status": "completed"
        },
        "tags": [],
        "id": "lGyXyWUHIm7C"
      },
      "execution_count": null,
      "outputs": []
    },
    {
      "cell_type": "markdown",
      "source": [
        "# Preparation\n",
        "\n",
        "This is where we start preparing everything if we want to start building machine learning models."
      ],
      "metadata": {
        "papermill": {
          "duration": 0.036205,
          "end_time": "2024-02-29T01:00:02.781798",
          "exception": false,
          "start_time": "2024-02-29T01:00:02.745593",
          "status": "completed"
        },
        "tags": [],
        "id": "TV7rRhvpIm7C"
      }
    },
    {
      "cell_type": "code",
      "source": [
        "X = train.drop('patient_gender', axis = 1)\n",
        "y = X.pop('DiagPeriodL90D')\n",
        "\n",
        "roc_scorer = make_scorer(roc_auc_score, needs_proba = True)\n",
        "\n",
        "seed = 42\n",
        "splits = 5\n",
        "skf = StratifiedKFold(n_splits = splits, random_state = seed, shuffle = True)\n",
        "tf.keras.utils.set_random_seed(seed)"
      ],
      "metadata": {
        "execution": {
          "iopub.execute_input": "2024-02-29T01:00:02.856951Z",
          "iopub.status.busy": "2024-02-29T01:00:02.856487Z",
          "iopub.status.idle": "2024-02-29T01:00:02.985707Z",
          "shell.execute_reply": "2024-02-29T01:00:02.984483Z"
        },
        "papermill": {
          "duration": 0.170047,
          "end_time": "2024-02-29T01:00:02.98844",
          "exception": false,
          "start_time": "2024-02-29T01:00:02.818393",
          "status": "completed"
        },
        "tags": [],
        "id": "bii1DvT6Im7C"
      },
      "execution_count": null,
      "outputs": []
    },
    {
      "cell_type": "markdown",
      "source": [
        "# Feature Engineering"
      ],
      "metadata": {
        "papermill": {
          "duration": 0.036078,
          "end_time": "2024-02-29T01:00:03.061826",
          "exception": false,
          "start_time": "2024-02-29T01:00:03.025748",
          "status": "completed"
        },
        "tags": [],
        "id": "lv67rCJ1Im7C"
      }
    },
    {
      "cell_type": "code",
      "source": [
        "class FeatureDropper(BaseEstimator, TransformerMixin):\n",
        "\n",
        "    def __init__(self, cols):\n",
        "        self.cols = cols\n",
        "\n",
        "    def fit(self, x, y):\n",
        "        return self\n",
        "\n",
        "    def transform(self, x):\n",
        "        return x.drop(self.cols, axis = 1)"
      ],
      "metadata": {
        "execution": {
          "iopub.execute_input": "2024-02-29T01:00:03.139241Z",
          "iopub.status.busy": "2024-02-29T01:00:03.138788Z",
          "iopub.status.idle": "2024-02-29T01:00:03.14501Z",
          "shell.execute_reply": "2024-02-29T01:00:03.144179Z"
        },
        "papermill": {
          "duration": 0.048289,
          "end_time": "2024-02-29T01:00:03.147123",
          "exception": false,
          "start_time": "2024-02-29T01:00:03.098834",
          "status": "completed"
        },
        "tags": [],
        "id": "4l06yrK_Im7C"
      },
      "execution_count": null,
      "outputs": []
    },
    {
      "cell_type": "code",
      "source": [
        "class FeatureSelector(BaseEstimator, TransformerMixin):\n",
        "\n",
        "    def __init__(self, cols):\n",
        "        self.cols = cols\n",
        "\n",
        "    def fit(self, x, y):\n",
        "        return self\n",
        "\n",
        "    def transform(self, x):\n",
        "        return x[self.cols]"
      ],
      "metadata": {
        "execution": {
          "iopub.execute_input": "2024-02-29T01:00:03.223148Z",
          "iopub.status.busy": "2024-02-29T01:00:03.221958Z",
          "iopub.status.idle": "2024-02-29T01:00:03.227737Z",
          "shell.execute_reply": "2024-02-29T01:00:03.226984Z"
        },
        "papermill": {
          "duration": 0.046429,
          "end_time": "2024-02-29T01:00:03.230086",
          "exception": false,
          "start_time": "2024-02-29T01:00:03.183657",
          "status": "completed"
        },
        "tags": [],
        "id": "k05KuzqJIm7C"
      },
      "execution_count": null,
      "outputs": []
    },
    {
      "cell_type": "code",
      "source": [
        "class RaceWrapper(BaseEstimator, ClassifierMixin):\n",
        "\n",
        "    def __init__(self, estimator):\n",
        "        self.estimator = estimator\n",
        "\n",
        "    def fit(self, x, y):\n",
        "        self.models = {}\n",
        "        self.models['null'] = clone(self.estimator).fit(x[x.patient_race.isna()], y[x.patient_race.isna()])\n",
        "        self.models['no_null'] = clone(self.estimator).fit(x[~x.patient_race.isna()], y[~x.patient_race.isna()])\n",
        "        return self\n",
        "\n",
        "    def predict_proba(self, x):\n",
        "        prediction = np.zeros((len(x), 2))\n",
        "        prediction[x.patient_race.isna()] = self.models['null'].predict_proba(x[x.patient_race.isna()])\n",
        "        prediction[~x.patient_race.isna()] = self.models['no_null'].predict_proba(x[~x.patient_race.isna()])\n",
        "        return prediction"
      ],
      "metadata": {
        "execution": {
          "iopub.execute_input": "2024-02-29T01:00:03.306828Z",
          "iopub.status.busy": "2024-02-29T01:00:03.305788Z",
          "iopub.status.idle": "2024-02-29T01:00:03.316734Z",
          "shell.execute_reply": "2024-02-29T01:00:03.315348Z"
        },
        "papermill": {
          "duration": 0.05189,
          "end_time": "2024-02-29T01:00:03.319577",
          "exception": false,
          "start_time": "2024-02-29T01:00:03.267687",
          "status": "completed"
        },
        "tags": [],
        "id": "qQHzxxAKIm7C"
      },
      "execution_count": null,
      "outputs": []
    },
    {
      "cell_type": "code",
      "source": [
        "class BMIWrapper(BaseEstimator, ClassifierMixin):\n",
        "\n",
        "    def __init__(self, estimator):\n",
        "        self.estimator = estimator\n",
        "\n",
        "    def fit(self, x, y):\n",
        "        self.models = {}\n",
        "        self.models['null'] = clone(self.estimator).fit(x[x.bmi.isna()], y[x.bmi.isna()])\n",
        "        self.models['no_null'] = clone(self.estimator).fit(x[~x.bmi.isna()], y[~x.bmi.isna()])\n",
        "        return self\n",
        "\n",
        "    def predict_proba(self, x):\n",
        "        prediction = np.zeros((len(x), 2))\n",
        "        prediction[x.bmi.isna()] = self.models['null'].predict_proba(x[x.bmi.isna()])\n",
        "        prediction[~x.bmi.isna()] = self.models['no_null'].predict_proba(x[~x.bmi.isna()])\n",
        "        return prediction"
      ],
      "metadata": {
        "execution": {
          "iopub.execute_input": "2024-02-29T01:00:03.397603Z",
          "iopub.status.busy": "2024-02-29T01:00:03.396809Z",
          "iopub.status.idle": "2024-02-29T01:00:03.405483Z",
          "shell.execute_reply": "2024-02-29T01:00:03.404633Z"
        },
        "papermill": {
          "duration": 0.049927,
          "end_time": "2024-02-29T01:00:03.407821",
          "exception": false,
          "start_time": "2024-02-29T01:00:03.357894",
          "status": "completed"
        },
        "tags": [],
        "id": "AuQGXhJlIm7C"
      },
      "execution_count": null,
      "outputs": []
    },
    {
      "cell_type": "code",
      "source": [
        "class ICDWrapper(BaseEstimator, ClassifierMixin):\n",
        "\n",
        "    def __init__(self, estimator):\n",
        "        self.estimator = estimator\n",
        "\n",
        "    def fit(self, x, y):\n",
        "        self.models = {}\n",
        "        condition = x.breast_cancer_diagnosis_code.astype(str).str[0] == 'C'\n",
        "        self.models['ICD10'] = clone(self.estimator).fit(x[condition], y[condition])\n",
        "        self.models['ICD9'] = clone(self.estimator).fit(x[~condition], y[~condition])\n",
        "        return self\n",
        "\n",
        "    def predict_proba(self, x):\n",
        "        prediction = np.zeros((len(x), 2))\n",
        "        condition = x.breast_cancer_diagnosis_code.astype(str).str[0] == 'C'\n",
        "        prediction[condition] = self.models['ICD10'].predict_proba(x[condition])\n",
        "        prediction[~condition] = self.models['ICD9'].predict_proba(x[~condition])\n",
        "        return prediction"
      ],
      "metadata": {
        "execution": {
          "iopub.execute_input": "2024-02-29T01:00:03.484225Z",
          "iopub.status.busy": "2024-02-29T01:00:03.48344Z",
          "iopub.status.idle": "2024-02-29T01:00:03.492596Z",
          "shell.execute_reply": "2024-02-29T01:00:03.491723Z"
        },
        "papermill": {
          "duration": 0.049976,
          "end_time": "2024-02-29T01:00:03.495068",
          "exception": false,
          "start_time": "2024-02-29T01:00:03.445092",
          "status": "completed"
        },
        "tags": [],
        "id": "Tu3Ht0_OIm7D"
      },
      "execution_count": null,
      "outputs": []
    },
    {
      "cell_type": "code",
      "source": [
        "class RaceImputer(BaseEstimator, ClassifierMixin):\n",
        "\n",
        "    def __init__(self, estimator):\n",
        "        self.estimator = estimator\n",
        "\n",
        "    def fit(self, x):\n",
        "\n",
        "        train_data = x[~x.patient_race.isna()]\n",
        "        target = x.pop('patient_race')\n",
        "\n",
        "        self.le = LabelEncoder().fit(target)\n",
        "        target = self.le.transform(target)\n",
        "\n",
        "        self.estimator.fit(train_data, target)\n",
        "        return self\n",
        "\n",
        "    def transform(self, x):\n",
        "\n",
        "        rain_data = x[x.patient_race.isna()]\n",
        "        target = x.pop('patient_race')\n",
        "        target = self.le.transform(target)\n",
        "\n",
        "        prediction = self.le.transform(prediction)"
      ],
      "metadata": {
        "execution": {
          "iopub.execute_input": "2024-02-29T01:00:03.571908Z",
          "iopub.status.busy": "2024-02-29T01:00:03.571157Z",
          "iopub.status.idle": "2024-02-29T01:00:03.578606Z",
          "shell.execute_reply": "2024-02-29T01:00:03.577829Z"
        },
        "papermill": {
          "duration": 0.048793,
          "end_time": "2024-02-29T01:00:03.580965",
          "exception": false,
          "start_time": "2024-02-29T01:00:03.532172",
          "status": "completed"
        },
        "tags": [],
        "id": "N9OWjgpvIm7D"
      },
      "execution_count": null,
      "outputs": []
    },
    {
      "cell_type": "code",
      "source": [
        "class Vectorizer(BaseEstimator, TransformerMixin):\n",
        "\n",
        "    def __init__(self, max_features = 1000, cols = ['breast_cancer_diagnosis_desc'], n_components = 3):\n",
        "        self.max_features = max_features\n",
        "        self.cols = cols\n",
        "        self.n_components = n_components\n",
        "\n",
        "    def fit(self, x, y):\n",
        "        self.vectorizer_dict = {}\n",
        "        self.decomposer_dict = {}\n",
        "\n",
        "        for col in self.cols:\n",
        "            self.vectorizer_dict[col] = TfidfVectorizer(max_features = self.max_features).fit(x[col].astype(str), y)\n",
        "            self.decomposer_dict[col] = TruncatedSVD(random_state = seed, n_components = self.n_components).fit(\n",
        "                self.vectorizer_dict[col].transform(x[col].astype(str)), y\n",
        "            )\n",
        "\n",
        "        return self\n",
        "\n",
        "    def transform(self, x):\n",
        "        vectorized = {}\n",
        "\n",
        "        for col in self.cols:\n",
        "            vectorized[col] = self.vectorizer_dict[col].transform(x[col].astype(str))\n",
        "            vectorized[col] = self.decomposer_dict[col].transform(vectorized[col])\n",
        "\n",
        "        vectorized_df = pd.concat([pd.DataFrame(vectorized[col]).rename({\n",
        "            f'truncatedsvd{i}' : f'{col}SVD{i}' for i in range(self.n_components)\n",
        "        }, axis = 1) for col in self.cols], axis = 1)\n",
        "\n",
        "        return pd.concat([x.reset_index(drop = True), vectorized_df], axis = 1)"
      ],
      "metadata": {
        "execution": {
          "iopub.execute_input": "2024-02-29T01:00:03.657153Z",
          "iopub.status.busy": "2024-02-29T01:00:03.656744Z",
          "iopub.status.idle": "2024-02-29T01:00:03.668492Z",
          "shell.execute_reply": "2024-02-29T01:00:03.667317Z"
        },
        "papermill": {
          "duration": 0.053527,
          "end_time": "2024-02-29T01:00:03.67135",
          "exception": false,
          "start_time": "2024-02-29T01:00:03.617823",
          "status": "completed"
        },
        "tags": [],
        "id": "sM4JYqHEIm7D"
      },
      "execution_count": null,
      "outputs": []
    },
    {
      "cell_type": "code",
      "source": [
        "def cat_imputer(x):\n",
        "    x_copy = x.copy()\n",
        "    x_copy[list(x_copy.select_dtypes('object'))] = x_copy[list(x_copy.select_dtypes('object'))].fillna('Null').astype(str)\n",
        "    return x_copy\n",
        "\n",
        "CatImputer = FunctionTransformer(cat_imputer)"
      ],
      "metadata": {
        "execution": {
          "iopub.execute_input": "2024-02-29T01:00:03.746706Z",
          "iopub.status.busy": "2024-02-29T01:00:03.746275Z",
          "iopub.status.idle": "2024-02-29T01:00:03.751769Z",
          "shell.execute_reply": "2024-02-29T01:00:03.75099Z"
        },
        "papermill": {
          "duration": 0.045663,
          "end_time": "2024-02-29T01:00:03.753862",
          "exception": false,
          "start_time": "2024-02-29T01:00:03.708199",
          "status": "completed"
        },
        "tags": [],
        "id": "tbVT-T-gIm7D"
      },
      "execution_count": null,
      "outputs": []
    },
    {
      "cell_type": "code",
      "source": [
        "def all_cat(x):\n",
        "    x_copy = x.copy()\n",
        "    x_copy['all_cat'] = ''\n",
        "    for col in list(x.select_dtypes('object')) + ['patient_zip3'] if 'patient_zip3' in list(x) else []:\n",
        "        x_copy['all_cat'] += x_copy[col].astype(str)\n",
        "    return x_copy\n",
        "\n",
        "AllCat = FunctionTransformer(all_cat)"
      ],
      "metadata": {
        "execution": {
          "iopub.execute_input": "2024-02-29T01:00:03.829092Z",
          "iopub.status.busy": "2024-02-29T01:00:03.828642Z",
          "iopub.status.idle": "2024-02-29T01:00:03.834669Z",
          "shell.execute_reply": "2024-02-29T01:00:03.833725Z"
        },
        "papermill": {
          "duration": 0.046394,
          "end_time": "2024-02-29T01:00:03.836903",
          "exception": false,
          "start_time": "2024-02-29T01:00:03.790509",
          "status": "completed"
        },
        "tags": [],
        "id": "goGyKvLYIm7D"
      },
      "execution_count": null,
      "outputs": []
    },
    {
      "cell_type": "code",
      "source": [
        "def null_indicator(x):\n",
        "    x_copy = x.copy()\n",
        "    x_copy['bmi_null'] = x_copy.bmi.isna().astype('object')\n",
        "    x_copy['atmos_null'] = x_copy.Ozone.isna().astype('object')\n",
        "    x_copy['size_null'] = x_copy.family_size.isna().astype('object')\n",
        "    return x_copy\n",
        "\n",
        "NullIndicator = FunctionTransformer(null_indicator)"
      ],
      "metadata": {
        "execution": {
          "iopub.execute_input": "2024-02-29T01:00:03.912553Z",
          "iopub.status.busy": "2024-02-29T01:00:03.911611Z",
          "iopub.status.idle": "2024-02-29T01:00:03.917838Z",
          "shell.execute_reply": "2024-02-29T01:00:03.917002Z"
        },
        "papermill": {
          "duration": 0.046648,
          "end_time": "2024-02-29T01:00:03.920247",
          "exception": false,
          "start_time": "2024-02-29T01:00:03.873599",
          "status": "completed"
        },
        "tags": [],
        "id": "ibUy8AJ8Im7D"
      },
      "execution_count": null,
      "outputs": []
    },
    {
      "cell_type": "code",
      "source": [
        "def float_rounder(x):\n",
        "    x_copy = x.copy()\n",
        "    x_copy.loc[:, x.select_dtypes('float').columns] = (x_copy.loc[:, x.select_dtypes('float').columns] * 1e6).fillna(0)\n",
        "    x_copy = x_copy.astype({col : np.uint64 for col in x.select_dtypes('float').columns})\n",
        "    return x_copy\n",
        "\n",
        "FloatRounder = FunctionTransformer(float_rounder)"
      ],
      "metadata": {
        "execution": {
          "iopub.execute_input": "2024-02-29T01:00:03.99902Z",
          "iopub.status.busy": "2024-02-29T01:00:03.998302Z",
          "iopub.status.idle": "2024-02-29T01:00:04.005396Z",
          "shell.execute_reply": "2024-02-29T01:00:04.004242Z"
        },
        "papermill": {
          "duration": 0.050317,
          "end_time": "2024-02-29T01:00:04.007945",
          "exception": false,
          "start_time": "2024-02-29T01:00:03.957628",
          "status": "completed"
        },
        "tags": [],
        "id": "NH9z24HpIm7D"
      },
      "execution_count": null,
      "outputs": []
    },
    {
      "cell_type": "code",
      "source": [
        "def desc_cleaner(x):\n",
        "    x_copy = x.copy()\n",
        "\n",
        "    rep = {\n",
        "        #'malig ' : 'malignant ',\n",
        "        'malig ' : '',\n",
        "        'malignant ' : '',\n",
        "        #'neoplm' : 'neoplasm',\n",
        "        'neoplm ' : '',\n",
        "        'neoplasm ' : '',\n",
        "        'unsp ' : 'unspecified ',\n",
        "        'ovrlp' : 'overlapping',\n",
        "        'sites' : 'site',\n",
        "        'site,' : 'site',\n",
        "        'breast,' : 'breast',\n",
        "        'areola,' : 'areola',\n",
        "        '(female),' : 'female',\n",
        "        #' of ' : ' ',\n",
        "        'of ' : '',\n",
        "        ' and ' : ' ',\n",
        "        '-' : ' '\n",
        "    }\n",
        "    rep = dict((re.escape(k), v) for k, v in rep.items())\n",
        "    pattern = re.compile(\"|\".join(rep.keys()))\n",
        "\n",
        "    x_copy['breast_cancer_diagnosis_desc'] = x_copy.breast_cancer_diagnosis_desc.astype('str').apply(\n",
        "        lambda x: pattern.sub(lambda m: rep[re.escape(m.group(0))], x.lower())\n",
        "    )\n",
        "\n",
        "    return x_copy\n",
        "\n",
        "DescCleaner = FunctionTransformer(desc_cleaner)"
      ],
      "metadata": {
        "execution": {
          "iopub.execute_input": "2024-02-29T01:00:04.097181Z",
          "iopub.status.busy": "2024-02-29T01:00:04.096575Z",
          "iopub.status.idle": "2024-02-29T01:00:04.108821Z",
          "shell.execute_reply": "2024-02-29T01:00:04.107628Z"
        },
        "papermill": {
          "duration": 0.066671,
          "end_time": "2024-02-29T01:00:04.111271",
          "exception": false,
          "start_time": "2024-02-29T01:00:04.0446",
          "status": "completed"
        },
        "tags": [],
        "id": "sokhmGPEIm7E"
      },
      "execution_count": null,
      "outputs": []
    },
    {
      "cell_type": "code",
      "source": [
        "def desc_indicator(x):\n",
        "    x_copy = x.copy()\n",
        "    x_copy['breast_cancer_diagnosis_desc'] = x_copy.breast_cancer_diagnosis_desc.astype(str).apply(lambda x: 'upper' in x).astype(str) +\\\n",
        "                        x_copy.breast_cancer_diagnosis_desc.astype(str).apply(lambda x: 'lower' in x).astype(str) +\\\n",
        "                        x_copy.breast_cancer_diagnosis_desc.astype(str).apply(lambda x: 'inner' in x).astype(str) +\\\n",
        "                        x_copy.breast_cancer_diagnosis_desc.astype(str).apply(lambda x: 'outer' in x).astype(str) +\\\n",
        "                        x_copy.breast_cancer_diagnosis_desc.astype(str).apply(lambda x: 'axillary' in x).astype(str) +\\\n",
        "                        x_copy.breast_cancer_diagnosis_desc.astype(str).apply(lambda x: 'breast' in x).astype(str) +\\\n",
        "                        x_copy.breast_cancer_diagnosis_desc.astype(str).apply(lambda x: 'secondary' in x).astype(str) +\\\n",
        "                        x_copy.breast_cancer_diagnosis_desc.astype(str).apply(lambda x: 'other' in x).astype(str) +\\\n",
        "                        x_copy.breast_cancer_diagnosis_desc.astype(str).apply(lambda x: 'areola' in x).astype(str) +\\\n",
        "                        x_copy.breast_cancer_diagnosis_desc.astype(str).apply(lambda x: 'overlapping' in x).astype(str) +\\\n",
        "                        x_copy.breast_cancer_diagnosis_desc.astype(str).apply(lambda x: 'central' in x).astype(str) +\\\n",
        "                        x_copy.breast_cancer_diagnosis_desc.astype(str).apply(lambda x: 'unspecified site' in x).astype(str) +\\\n",
        "                        x_copy.breast_cancer_diagnosis_desc.astype(str).apply(lambda x: 'male' in x).astype(str) +\\\n",
        "                        x_copy.breast_cancer_diagnosis_desc.astype(str).apply(lambda x: 'female' in x).astype(str) +\\\n",
        "                        x_copy.breast_cancer_diagnosis_desc.astype(str).apply(lambda x: 'left' in x).astype(str) +\\\n",
        "                        x_copy.breast_cancer_diagnosis_desc.astype(str).apply(lambda x: 'right' in x).astype(str) +\\\n",
        "                        x_copy.breast_cancer_diagnosis_desc.astype(str).apply(lambda x: 'unspecified male' in x or 'unspecified female' in x).astype(str)\n",
        "    return x_copy\n",
        "\n",
        "DescIndicator = FunctionTransformer(desc_indicator)"
      ],
      "metadata": {
        "execution": {
          "iopub.execute_input": "2024-02-29T01:00:04.190729Z",
          "iopub.status.busy": "2024-02-29T01:00:04.189867Z",
          "iopub.status.idle": "2024-02-29T01:00:04.204453Z",
          "shell.execute_reply": "2024-02-29T01:00:04.20349Z"
        },
        "papermill": {
          "duration": 0.055552,
          "end_time": "2024-02-29T01:00:04.207004",
          "exception": false,
          "start_time": "2024-02-29T01:00:04.151452",
          "status": "completed"
        },
        "tags": [],
        "id": "QGfi0Cr_Im7E"
      },
      "execution_count": null,
      "outputs": []
    },
    {
      "cell_type": "code",
      "source": [
        "def desc_indicator_2(x):\n",
        "    x_copy = x.copy()\n",
        "    x_copy['upper'] = x_copy.breast_cancer_diagnosis_desc.astype(str).apply(lambda x: 'upper' in x)\n",
        "    x_copy['lower'] = x_copy.breast_cancer_diagnosis_desc.astype(str).apply(lambda x: 'lower' in x)\n",
        "    x_copy['inner'] = x_copy.breast_cancer_diagnosis_desc.astype(str).apply(lambda x: 'inner' in x)\n",
        "    x_copy['outer'] = x_copy.breast_cancer_diagnosis_desc.astype(str).apply(lambda x: 'outer' in x)\n",
        "    x_copy['axillary'] = x_copy.breast_cancer_diagnosis_desc.astype(str).apply(lambda x: 'axillary' in x)\n",
        "    x_copy['breast'] = x_copy.breast_cancer_diagnosis_desc.astype(str).apply(lambda x: 'breast' in x)\n",
        "    x_copy['secondary'] = x_copy.breast_cancer_diagnosis_desc.astype(str).apply(lambda x: 'secondary' in x)\n",
        "    x_copy['other'] = x_copy.breast_cancer_diagnosis_desc.astype(str).apply(lambda x: 'other' in x)\n",
        "    x_copy['areola'] = x_copy.breast_cancer_diagnosis_desc.astype(str).apply(lambda x: 'areola' in x)\n",
        "    x_copy['overlapping'] = x_copy.breast_cancer_diagnosis_desc.astype(str).apply(lambda x: 'overlapping' in x)\n",
        "    x_copy['central'] = x_copy.breast_cancer_diagnosis_desc.astype(str).apply(lambda x: 'central' in x)\n",
        "    x_copy['unspecified'] = x_copy.breast_cancer_diagnosis_desc.astype(str).apply(lambda x: 'unspecified site' in x)\n",
        "    x_copy['breast_male'] = x_copy.breast_cancer_diagnosis_desc.astype(str).apply(lambda x: 'male' in x)\n",
        "    x_copy['breast_female'] = x_copy.breast_cancer_diagnosis_desc.astype(str).apply(lambda x: 'female' in x)\n",
        "    x_copy['left'] = x_copy.breast_cancer_diagnosis_desc.astype(str).apply(lambda x: 'left' in x)\n",
        "    x_copy['right'] = x_copy.breast_cancer_diagnosis_desc.astype(str).apply(lambda x: 'right' in x)\n",
        "    x_copy['unspecified_lr'] = x_copy.breast_cancer_diagnosis_desc.astype(str).apply(lambda x: 'unspecified male' in x or 'unspecified female' in x)\n",
        "    return x_copy.drop('breast_cancer_diagnosis_desc', axis = 1)\n",
        "\n",
        "DescIndicator2 = FunctionTransformer(desc_indicator_2)"
      ],
      "metadata": {
        "execution": {
          "iopub.execute_input": "2024-02-29T01:00:04.283679Z",
          "iopub.status.busy": "2024-02-29T01:00:04.282831Z",
          "iopub.status.idle": "2024-02-29T01:00:04.297626Z",
          "shell.execute_reply": "2024-02-29T01:00:04.29636Z"
        },
        "papermill": {
          "duration": 0.056152,
          "end_time": "2024-02-29T01:00:04.30048",
          "exception": false,
          "start_time": "2024-02-29T01:00:04.244328",
          "status": "completed"
        },
        "tags": [],
        "id": "VmzRW0AIIm7E"
      },
      "execution_count": null,
      "outputs": []
    },
    {
      "cell_type": "code",
      "source": [
        "def zip_splitter(x):\n",
        "    x_copy = x.copy()\n",
        "    x_copy['zip1'] = x_copy.patient_zip3.astype(str).str[0]\n",
        "    x_copy['zip2'] = x_copy.patient_zip3.astype(str).str[1:]\n",
        "    return x_copy\n",
        "\n",
        "ZIPSplitter = FunctionTransformer(zip_splitter)"
      ],
      "metadata": {
        "execution": {
          "iopub.execute_input": "2024-02-29T01:00:04.376459Z",
          "iopub.status.busy": "2024-02-29T01:00:04.376028Z",
          "iopub.status.idle": "2024-02-29T01:00:04.382309Z",
          "shell.execute_reply": "2024-02-29T01:00:04.381228Z"
        },
        "papermill": {
          "duration": 0.047345,
          "end_time": "2024-02-29T01:00:04.384875",
          "exception": false,
          "start_time": "2024-02-29T01:00:04.33753",
          "status": "completed"
        },
        "tags": [],
        "id": "peRonKtOIm7E"
      },
      "execution_count": null,
      "outputs": []
    },
    {
      "cell_type": "code",
      "source": [
        "def icd_switcher(x):\n",
        "    x_copy = x.copy()\n",
        "    x_copy['ICD10'] = (x_copy.breast_cancer_diagnosis_code.astype(str).str[0] == 'C').astype('object')\n",
        "    return x_copy\n",
        "\n",
        "ICDSwitcher = FunctionTransformer(icd_switcher)"
      ],
      "metadata": {
        "execution": {
          "iopub.execute_input": "2024-02-29T01:00:04.461589Z",
          "iopub.status.busy": "2024-02-29T01:00:04.460879Z",
          "iopub.status.idle": "2024-02-29T01:00:04.466173Z",
          "shell.execute_reply": "2024-02-29T01:00:04.46535Z"
        },
        "papermill": {
          "duration": 0.04641,
          "end_time": "2024-02-29T01:00:04.468492",
          "exception": false,
          "start_time": "2024-02-29T01:00:04.422082",
          "status": "completed"
        },
        "tags": [],
        "id": "K3ngfvP7Im7F"
      },
      "execution_count": null,
      "outputs": []
    },
    {
      "cell_type": "code",
      "source": [
        "def metastatic_grouper(x):\n",
        "    x_copy = x.copy()\n",
        "    x_copy['metastatic_group'] = x.metastatic_cancer_diagnosis_code.astype(str).str[:3]\n",
        "    return x_copy\n",
        "\n",
        "MetastaticGrouper = FunctionTransformer(metastatic_grouper)"
      ],
      "metadata": {
        "execution": {
          "iopub.execute_input": "2024-02-29T01:00:04.546151Z",
          "iopub.status.busy": "2024-02-29T01:00:04.545445Z",
          "iopub.status.idle": "2024-02-29T01:00:04.550655Z",
          "shell.execute_reply": "2024-02-29T01:00:04.549817Z"
        },
        "papermill": {
          "duration": 0.047477,
          "end_time": "2024-02-29T01:00:04.552941",
          "exception": false,
          "start_time": "2024-02-29T01:00:04.505464",
          "status": "completed"
        },
        "tags": [],
        "id": "L4qeUQh7Im7F"
      },
      "execution_count": null,
      "outputs": []
    },
    {
      "cell_type": "code",
      "source": [
        "def region_binner(x):\n",
        "    x_copy = x.copy()\n",
        "    x_copy['regional_age_bin'] = np.argmax(x[['age_under_10', 'age_10_to_19',\n",
        "       'age_20s', 'age_30s', 'age_40s', 'age_50s', 'age_60s', 'age_70s',\n",
        "       'age_over_80']], axis = 1)\n",
        "    x_copy['regional_income_bin'] = np.argmax(x[['income_household_under_5',\n",
        "       'income_household_5_to_10', 'income_household_10_to_15',\n",
        "       'income_household_15_to_20', 'income_household_20_to_25',\n",
        "       'income_household_25_to_35', 'income_household_35_to_50',\n",
        "       'income_household_50_to_75', 'income_household_75_to_100',\n",
        "       'income_household_100_to_150', 'income_household_150_over']], axis = 1)\n",
        "    x_copy['regional_edu_bin'] = np.argmax(x[['education_less_highschool', 'education_highschool',\n",
        "       'education_some_college', 'education_bachelors', 'education_graduate',\n",
        "       'education_college_or_above', 'education_stem_degree']], axis = 1)\n",
        "    return x_copy#.astype({'regional_age_bin' : 'object', 'regional_income_bin' : 'object', 'regional_edu_bin' : 'object'})\n",
        "\n",
        "RegionBinner = FunctionTransformer(region_binner)"
      ],
      "metadata": {
        "execution": {
          "iopub.execute_input": "2024-02-29T01:00:04.63005Z",
          "iopub.status.busy": "2024-02-29T01:00:04.629303Z",
          "iopub.status.idle": "2024-02-29T01:00:04.636849Z",
          "shell.execute_reply": "2024-02-29T01:00:04.636008Z"
        },
        "papermill": {
          "duration": 0.048613,
          "end_time": "2024-02-29T01:00:04.63934",
          "exception": false,
          "start_time": "2024-02-29T01:00:04.590727",
          "status": "completed"
        },
        "tags": [],
        "id": "2ZBxFgt1Im7F"
      },
      "execution_count": null,
      "outputs": []
    },
    {
      "cell_type": "code",
      "source": [
        "def binner(x):\n",
        "    x_copy = x.copy()\n",
        "    x_copy['binned_age'] = (x_copy['patient_age'] / 2).astype(np.uint8)\n",
        "    return x_copy#.astype({'binned_age' : 'object'})\n",
        "\n",
        "Binner = FunctionTransformer(binner)"
      ],
      "metadata": {
        "execution": {
          "iopub.execute_input": "2024-02-29T01:00:04.715174Z",
          "iopub.status.busy": "2024-02-29T01:00:04.714637Z",
          "iopub.status.idle": "2024-02-29T01:00:04.71976Z",
          "shell.execute_reply": "2024-02-29T01:00:04.718985Z"
        },
        "papermill": {
          "duration": 0.046055,
          "end_time": "2024-02-29T01:00:04.722199",
          "exception": false,
          "start_time": "2024-02-29T01:00:04.676144",
          "status": "completed"
        },
        "tags": [],
        "id": "L0fC8Ak3Im7F"
      },
      "execution_count": null,
      "outputs": []
    },
    {
      "cell_type": "code",
      "source": [
        "Preprocessor = make_pipeline(DescCleaner, DescIndicator, ICDSwitcher, Binner, NullIndicator)"
      ],
      "metadata": {
        "execution": {
          "iopub.execute_input": "2024-02-29T01:00:04.798026Z",
          "iopub.status.busy": "2024-02-29T01:00:04.797573Z",
          "iopub.status.idle": "2024-02-29T01:00:04.803009Z",
          "shell.execute_reply": "2024-02-29T01:00:04.801843Z"
        },
        "papermill": {
          "duration": 0.046368,
          "end_time": "2024-02-29T01:00:04.805828",
          "exception": false,
          "start_time": "2024-02-29T01:00:04.75946",
          "status": "completed"
        },
        "tags": [],
        "id": "cjLnVvR4Im7G"
      },
      "execution_count": null,
      "outputs": []
    },
    {
      "cell_type": "code",
      "source": [
        "def svd_rounder(x):\n",
        "\n",
        "    x_copy = x.copy()\n",
        "    for col in [column for column in list(x) if 'SVD' in column]:\n",
        "        x_copy[col] = (x_copy[col] * 1e18).astype(np.int64)\n",
        "\n",
        "    return x_copy\n",
        "\n",
        "SVDRounder = FunctionTransformer(svd_rounder)"
      ],
      "metadata": {
        "execution": {
          "iopub.execute_input": "2024-02-29T01:00:04.882013Z",
          "iopub.status.busy": "2024-02-29T01:00:04.88134Z",
          "iopub.status.idle": "2024-02-29T01:00:04.888246Z",
          "shell.execute_reply": "2024-02-29T01:00:04.887021Z"
        },
        "papermill": {
          "duration": 0.04796,
          "end_time": "2024-02-29T01:00:04.890814",
          "exception": false,
          "start_time": "2024-02-29T01:00:04.842854",
          "status": "completed"
        },
        "tags": [],
        "id": "bcehONmuIm7G"
      },
      "execution_count": null,
      "outputs": []
    },
    {
      "cell_type": "code",
      "source": [
        "ToNumpy = FunctionTransformer(lambda x: x.to_numpy())"
      ],
      "metadata": {
        "execution": {
          "iopub.execute_input": "2024-02-29T01:00:04.967166Z",
          "iopub.status.busy": "2024-02-29T01:00:04.965946Z",
          "iopub.status.idle": "2024-02-29T01:00:04.97235Z",
          "shell.execute_reply": "2024-02-29T01:00:04.970885Z"
        },
        "papermill": {
          "duration": 0.046904,
          "end_time": "2024-02-29T01:00:04.974856",
          "exception": false,
          "start_time": "2024-02-29T01:00:04.927952",
          "status": "completed"
        },
        "tags": [],
        "id": "C_jsz7AFIm7G"
      },
      "execution_count": null,
      "outputs": []
    },
    {
      "cell_type": "code",
      "source": [
        "Sorter = FunctionTransformer(lambda x: x.sort_values(by = 'breast_cancer_diagnosis_code'))"
      ],
      "metadata": {
        "execution": {
          "iopub.execute_input": "2024-02-29T01:00:05.051883Z",
          "iopub.status.busy": "2024-02-29T01:00:05.05071Z",
          "iopub.status.idle": "2024-02-29T01:00:05.056496Z",
          "shell.execute_reply": "2024-02-29T01:00:05.055702Z"
        },
        "papermill": {
          "duration": 0.047118,
          "end_time": "2024-02-29T01:00:05.058878",
          "exception": false,
          "start_time": "2024-02-29T01:00:05.01176",
          "status": "completed"
        },
        "tags": [],
        "id": "CdLUaqWgIm7G"
      },
      "execution_count": null,
      "outputs": []
    },
    {
      "cell_type": "markdown",
      "source": [
        "# Model Cross Validation"
      ],
      "metadata": {
        "papermill": {
          "duration": 0.036732,
          "end_time": "2024-02-29T01:00:05.134476",
          "exception": false,
          "start_time": "2024-02-29T01:00:05.097744",
          "status": "completed"
        },
        "tags": [],
        "id": "pB-YcFl_Im7G"
      }
    },
    {
      "cell_type": "code",
      "source": [
        "def cross_val_score(estimator, cv = skf, label = '', show_importance = False, pseudolabelling = False):\n",
        "\n",
        "    X = train.copy()\n",
        "    y = X.pop('DiagPeriodL90D')\n",
        "\n",
        "    #initiate prediction arrays and score lists\n",
        "    val_predictions = np.zeros((len(X)))\n",
        "    train_scores, val_scores= [], []\n",
        "\n",
        "    feature_importances_table = pd.DataFrame({'value' : 0}, index = list(X.columns))\n",
        "\n",
        "    test_predictions = np.zeros((len(test)))\n",
        "\n",
        "    #training model, predicting prognosis probability, and evaluating metrics\n",
        "    for fold, (train_idx, val_idx) in enumerate(cv.split(X, y)):\n",
        "\n",
        "        model = clone(estimator)\n",
        "\n",
        "        #define train set\n",
        "        X_train = X.iloc[train_idx].reset_index(drop = True)\n",
        "        y_train = y.iloc[train_idx].reset_index(drop = True)\n",
        "\n",
        "        #define validation set\n",
        "        X_val = X.iloc[val_idx].reset_index(drop = True)\n",
        "        y_val = y.iloc[val_idx].reset_index(drop = True)\n",
        "\n",
        "        #train model\n",
        "        model.fit(X_train, y_train)\n",
        "\n",
        "        if pseudolabelling:\n",
        "            pseudolabel = model.predict_proba(X_val).argmax(axis = 1)\n",
        "\n",
        "            pseudo_X = pd.concat([X_train, X_val]).reset_index(drop = True)\n",
        "            pseudo_y = pd.concat([y_train, pd.Series(pseudolabel)]).reset_index(drop = True)\n",
        "\n",
        "            model.fit(pseudo_X, pseudo_y)\n",
        "\n",
        "        #make predictions\n",
        "        train_preds = model.predict_proba(X_train)[:, 1]\n",
        "        val_preds = model.predict_proba(X_val)[:, 1]\n",
        "\n",
        "        val_predictions[val_idx] += val_preds\n",
        "        test_predictions += model.predict_proba(test)[:, 1] / cv.get_n_splits()\n",
        "        if show_importance:\n",
        "            feature_importances_table['value'] += permutation_importance(model, X_val, y_val, random_state = seed, scoring = make_scorer(roc_auc_score, needs_proba = True), n_repeats = 5).importances_mean / cv.get_n_splits()\n",
        "\n",
        "        #evaluate model for a fold\n",
        "        train_score = roc_auc_score(y_train, train_preds)\n",
        "        val_score = roc_auc_score(y_val, val_preds)\n",
        "\n",
        "        #append model score for a fold to list\n",
        "        train_scores.append(train_score)\n",
        "        val_scores.append(val_score)\n",
        "\n",
        "    if show_importance:\n",
        "        plt.figure(figsize = (20, 30))\n",
        "        plt.title(f'Features with Biggest Importance of {np.mean(val_scores):.5f} ± {np.std(val_scores):.5f} Model', size = 25, weight = 'bold')\n",
        "        sns.barplot(feature_importances_table.sort_values('value', ascending = False).T, orient = 'h', palette = 'viridis')\n",
        "        plt.show()\n",
        "    else:\n",
        "        print(f'Val Score: {np.mean(val_scores):.5f} ± {np.std(val_scores):.5f} | Train Score: {np.mean(train_scores):.5f} ± {np.std(train_scores):.5f} | {label}')\n",
        "\n",
        "    return val_scores, val_predictions, test_predictions"
      ],
      "metadata": {
        "_kg_hide-input": false,
        "execution": {
          "iopub.execute_input": "2024-02-29T01:00:05.211272Z",
          "iopub.status.busy": "2024-02-29T01:00:05.209534Z",
          "iopub.status.idle": "2024-02-29T01:00:05.229382Z",
          "shell.execute_reply": "2024-02-29T01:00:05.228088Z"
        },
        "papermill": {
          "duration": 0.060821,
          "end_time": "2024-02-29T01:00:05.23198",
          "exception": false,
          "start_time": "2024-02-29T01:00:05.171159",
          "status": "completed"
        },
        "tags": [],
        "id": "4EiyN8TVIm7G"
      },
      "execution_count": null,
      "outputs": []
    },
    {
      "cell_type": "code",
      "source": [
        "score_list, oof_list, predict_list = pd.DataFrame(), pd.DataFrame(), pd.DataFrame()"
      ],
      "metadata": {
        "execution": {
          "iopub.execute_input": "2024-02-29T01:00:05.30782Z",
          "iopub.status.busy": "2024-02-29T01:00:05.307117Z",
          "iopub.status.idle": "2024-02-29T01:00:05.315981Z",
          "shell.execute_reply": "2024-02-29T01:00:05.31379Z"
        },
        "papermill": {
          "duration": 0.049544,
          "end_time": "2024-02-29T01:00:05.318561",
          "exception": false,
          "start_time": "2024-02-29T01:00:05.269017",
          "status": "completed"
        },
        "tags": [],
        "id": "jfYxBe2QIm7H"
      },
      "execution_count": null,
      "outputs": []
    },
    {
      "cell_type": "markdown",
      "source": [
        "# Feature Selector"
      ],
      "metadata": {
        "papermill": {
          "duration": 0.036508,
          "end_time": "2024-02-29T01:00:05.391739",
          "exception": false,
          "start_time": "2024-02-29T01:00:05.355231",
          "status": "completed"
        },
        "tags": [],
        "id": "oOdGPT01Im7H"
      }
    },
    {
      "cell_type": "code",
      "source": [
        "\"\"\"\n",
        "Sequential feature selection\n",
        "\"\"\"\n",
        "from numbers import Integral, Real\n",
        "\n",
        "import numpy as np\n",
        "\n",
        "from sklearn.base import BaseEstimator, MetaEstimatorMixin, clone, is_classifier\n",
        "from sklearn.metrics import get_scorer_names\n",
        "from sklearn.model_selection import check_cv\n",
        "from sklearn.utils._param_validation import HasMethods, Interval, StrOptions\n",
        "from sklearn.utils._tags import _safe_tags\n",
        "from sklearn.utils.validation import check_is_fitted\n",
        "from sklearn.feature_selection._base import SelectorMixin\n",
        "\n",
        "\n",
        "class SequentialFeatureSelector(SelectorMixin, MetaEstimatorMixin, BaseEstimator):\n",
        "    \"\"\"Transformer that performs Sequential Feature Selection.\n",
        "\n",
        "    This Sequential Feature Selector adds (forward selection) or\n",
        "    removes (backward selection) features to form a feature subset in a\n",
        "    greedy fashion. At each stage, this estimator chooses the best feature to\n",
        "    add or remove based on the cross-validation score of an estimator. In\n",
        "    the case of unsupervised learning, this Sequential Feature Selector\n",
        "    looks only at the features (X), not the desired outputs (y).\n",
        "\n",
        "    Read more in the :ref:`User Guide <sequential_feature_selection>`.\n",
        "\n",
        "    .. versionadded:: 0.24\n",
        "\n",
        "    Parameters\n",
        "    ----------\n",
        "    estimator : estimator instance\n",
        "        An unfitted estimator.\n",
        "\n",
        "    n_features_to_select : \"auto\", int or float, default=\"auto\"\n",
        "        If `\"auto\"`, the behaviour depends on the `tol` parameter:\n",
        "\n",
        "        - if `tol` is not `None`, then features are selected while the score\n",
        "          change does not exceed `tol`.\n",
        "        - otherwise, half of the features are selected.\n",
        "\n",
        "        If integer, the parameter is the absolute number of features to select.\n",
        "        If float between 0 and 1, it is the fraction of features to select.\n",
        "\n",
        "        .. versionadded:: 1.1\n",
        "           The option `\"auto\"` was added in version 1.1.\n",
        "\n",
        "        .. versionchanged:: 1.3\n",
        "           The default changed from `\"warn\"` to `\"auto\"` in 1.3.\n",
        "\n",
        "    tol : float, default=None\n",
        "        If the score is not incremented by at least `tol` between two\n",
        "        consecutive feature additions or removals, stop adding or removing.\n",
        "\n",
        "        `tol` can be negative when removing features using `direction=\"backward\"`.\n",
        "        It can be useful to reduce the number of features at the cost of a small\n",
        "        decrease in the score.\n",
        "\n",
        "        `tol` is enabled only when `n_features_to_select` is `\"auto\"`.\n",
        "\n",
        "        .. versionadded:: 1.1\n",
        "\n",
        "    direction : {'forward', 'backward'}, default='forward'\n",
        "        Whether to perform forward selection or backward selection.\n",
        "\n",
        "    scoring : str or callable, default=None\n",
        "        A single str (see :ref:`scoring_parameter`) or a callable\n",
        "        (see :ref:`scoring`) to evaluate the predictions on the test set.\n",
        "\n",
        "        NOTE that when using a custom scorer, it should return a single\n",
        "        value.\n",
        "\n",
        "        If None, the estimator's score method is used.\n",
        "\n",
        "    cv : int, cross-validation generator or an iterable, default=None\n",
        "        Determines the cross-validation splitting strategy.\n",
        "        Possible inputs for cv are:\n",
        "\n",
        "        - None, to use the default 5-fold cross validation,\n",
        "        - integer, to specify the number of folds in a `(Stratified)KFold`,\n",
        "        - :term:`CV splitter`,\n",
        "        - An iterable yielding (train, test) splits as arrays of indices.\n",
        "\n",
        "        For integer/None inputs, if the estimator is a classifier and ``y`` is\n",
        "        either binary or multiclass,\n",
        "        :class:`~sklearn.model_selection.StratifiedKFold` is used. In all other\n",
        "        cases, :class:`~sklearn.model_selection.KFold` is used. These splitters\n",
        "        are instantiated with `shuffle=False` so the splits will be the same\n",
        "        across calls.\n",
        "\n",
        "        Refer :ref:`User Guide <cross_validation>` for the various\n",
        "        cross-validation strategies that can be used here.\n",
        "\n",
        "    n_jobs : int, default=None\n",
        "        Number of jobs to run in parallel. When evaluating a new feature to\n",
        "        add or remove, the cross-validation procedure is parallel over the\n",
        "        folds.\n",
        "        ``None`` means 1 unless in a :obj:`joblib.parallel_backend` context.\n",
        "        ``-1`` means using all processors. See :term:`Glossary <n_jobs>`\n",
        "        for more details.\n",
        "\n",
        "    Attributes\n",
        "    ----------\n",
        "    n_features_in_ : int\n",
        "        Number of features seen during :term:`fit`. Only defined if the\n",
        "        underlying estimator exposes such an attribute when fit.\n",
        "\n",
        "        .. versionadded:: 0.24\n",
        "\n",
        "    feature_names_in_ : ndarray of shape (`n_features_in_`,)\n",
        "        Names of features seen during :term:`fit`. Defined only when `X`\n",
        "        has feature names that are all strings.\n",
        "\n",
        "        .. versionadded:: 1.0\n",
        "\n",
        "    n_features_to_select_ : int\n",
        "        The number of features that were selected.\n",
        "\n",
        "    support_ : ndarray of shape (n_features,), dtype=bool\n",
        "        The mask of selected features.\n",
        "\n",
        "    See Also\n",
        "    --------\n",
        "    GenericUnivariateSelect : Univariate feature selector with configurable\n",
        "        strategy.\n",
        "    RFE : Recursive feature elimination based on importance weights.\n",
        "    RFECV : Recursive feature elimination based on importance weights, with\n",
        "        automatic selection of the number of features.\n",
        "    SelectFromModel : Feature selection based on thresholds of importance\n",
        "        weights.\n",
        "\n",
        "    Examples\n",
        "    --------\n",
        "    >>> from sklearn.feature_selection import SequentialFeatureSelector\n",
        "    >>> from sklearn.neighbors import KNeighborsClassifier\n",
        "    >>> from sklearn.datasets import load_iris\n",
        "    >>> X, y = load_iris(return_X_y=True)\n",
        "    >>> knn = KNeighborsClassifier(n_neighbors=3)\n",
        "    >>> sfs = SequentialFeatureSelector(knn, n_features_to_select=3)\n",
        "    >>> sfs.fit(X, y)\n",
        "    SequentialFeatureSelector(estimator=KNeighborsClassifier(n_neighbors=3),\n",
        "                              n_features_to_select=3)\n",
        "    >>> sfs.get_support()\n",
        "    array([ True, False,  True,  True])\n",
        "    >>> sfs.transform(X).shape\n",
        "    (150, 3)\n",
        "    \"\"\"\n",
        "\n",
        "    _parameter_constraints: dict = {\n",
        "        \"estimator\": [HasMethods([\"fit\"])],\n",
        "        \"n_features_to_select\": [\n",
        "            StrOptions({\"auto\"}),\n",
        "            Interval(Real, 0, 1, closed=\"right\"),\n",
        "            Interval(Integral, 0, None, closed=\"neither\"),\n",
        "        ],\n",
        "        \"tol\": [None, Interval(Real, None, None, closed=\"neither\")],\n",
        "        \"direction\": [StrOptions({\"forward\", \"backward\"})],\n",
        "        \"scoring\": [None, StrOptions(set(get_scorer_names())), callable],\n",
        "        \"cv\": [\"cv_object\"],\n",
        "        \"n_jobs\": [None, Integral],\n",
        "    }\n",
        "\n",
        "    def __init__(\n",
        "        self,\n",
        "        estimator,\n",
        "        *,\n",
        "        n_features_to_select=\"auto\",\n",
        "        tol=None,\n",
        "        direction=\"forward\",\n",
        "        scoring=None,\n",
        "        cv=5,\n",
        "        n_jobs=None,\n",
        "    ):\n",
        "        self.estimator = estimator\n",
        "        self.n_features_to_select = n_features_to_select\n",
        "        self.tol = tol\n",
        "        self.direction = direction\n",
        "        self.scoring = scoring\n",
        "        self.cv = cv\n",
        "        self.n_jobs = n_jobs\n",
        "\n",
        "    #@_fit_context(\n",
        "        # SequentialFeatureSelector.estimator is not validated yet\n",
        "    #    prefer_skip_nested_validation=False\n",
        "    #)\n",
        "    def fit(self, X, y=None):\n",
        "        \"\"\"Learn the features to select from X.\n",
        "\n",
        "        Parameters\n",
        "        ----------\n",
        "        X : array-like of shape (n_samples, n_features)\n",
        "            Training vectors, where `n_samples` is the number of samples and\n",
        "            `n_features` is the number of predictors.\n",
        "\n",
        "        y : array-like of shape (n_samples,), default=None\n",
        "            Target values. This parameter may be ignored for\n",
        "            unsupervised learning.\n",
        "\n",
        "        Returns\n",
        "        -------\n",
        "        self : object\n",
        "            Returns the instance itself.\n",
        "        \"\"\"\n",
        "        tags = self._get_tags()\n",
        "        #X = self._validate_data(\n",
        "        #    X,\n",
        "        #    accept_sparse=\"csc\",\n",
        "        #    ensure_min_features=2,\n",
        "        #    force_all_finite=not tags.get(\"allow_nan\", True),\n",
        "        #)\n",
        "        n_features = X.shape[1]\n",
        "\n",
        "        if self.n_features_to_select == \"auto\":\n",
        "            if self.tol is not None:\n",
        "                # With auto feature selection, `n_features_to_select_` will be updated\n",
        "                # to `support_.sum()` after features are selected.\n",
        "                self.n_features_to_select_ = n_features - 1\n",
        "            else:\n",
        "                self.n_features_to_select_ = n_features // 2\n",
        "        elif isinstance(self.n_features_to_select, Integral):\n",
        "            if self.n_features_to_select >= n_features:\n",
        "                raise ValueError(\"n_features_to_select must be < n_features.\")\n",
        "            self.n_features_to_select_ = self.n_features_to_select\n",
        "        elif isinstance(self.n_features_to_select, Real):\n",
        "            self.n_features_to_select_ = int(n_features * self.n_features_to_select)\n",
        "\n",
        "        if self.tol is not None and self.tol < 0 and self.direction == \"forward\":\n",
        "            raise ValueError(\"tol must be positive when doing forward selection\")\n",
        "\n",
        "        cv = check_cv(self.cv, y, classifier=is_classifier(self.estimator))\n",
        "\n",
        "        cloned_estimator = clone(self.estimator)\n",
        "\n",
        "        # the current mask corresponds to the set of features:\n",
        "        # - that we have already *selected* if we do forward selection\n",
        "        # - that we have already *excluded* if we do backward selection\n",
        "        current_mask = np.zeros(shape=n_features, dtype=bool)\n",
        "        n_iterations = (\n",
        "            self.n_features_to_select_\n",
        "            if self.n_features_to_select == \"auto\" or self.direction == \"forward\"\n",
        "            else n_features - self.n_features_to_select_\n",
        "        )\n",
        "\n",
        "        old_score = -np.inf\n",
        "        is_auto_select = self.tol is not None and self.n_features_to_select == \"auto\"\n",
        "        for _ in range(n_iterations):\n",
        "            new_feature_idx, new_score = self._get_best_new_feature_score(\n",
        "                cloned_estimator, X, y, cv, current_mask\n",
        "            )\n",
        "            if is_auto_select and ((new_score - old_score) < self.tol):\n",
        "                break\n",
        "\n",
        "            old_score = new_score\n",
        "            current_mask[new_feature_idx] = True\n",
        "\n",
        "        if self.direction == \"backward\":\n",
        "            current_mask = ~current_mask\n",
        "\n",
        "        self.support_ = current_mask\n",
        "        self.n_features_to_select_ = self.support_.sum()\n",
        "\n",
        "        return self\n",
        "\n",
        "    def _get_best_new_feature_score(self, estimator, X, y, cv, current_mask):\n",
        "        # Return the best new feature and its score to add to the current_mask,\n",
        "        # i.e. return the best new feature and its score to add (resp. remove)\n",
        "        # when doing forward selection (resp. backward selection).\n",
        "        # Feature will be added if the current score and past score are greater\n",
        "        # than tol when n_feature is auto,\n",
        "        candidate_feature_indices = np.flatnonzero(~current_mask)\n",
        "        scores = {}\n",
        "        for feature_idx in candidate_feature_indices:\n",
        "            candidate_mask = current_mask.copy()\n",
        "            candidate_mask[feature_idx] = True\n",
        "            if self.direction == \"backward\":\n",
        "                candidate_mask = ~candidate_mask\n",
        "            X_new = X.iloc[:, candidate_mask]\n",
        "            scores[feature_idx] = cross_val_score_sfs(\n",
        "                estimator,\n",
        "                X_new,\n",
        "                y,\n",
        "                cv=cv,\n",
        "                scoring=self.scoring,\n",
        "                n_jobs=self.n_jobs,\n",
        "            ).mean()\n",
        "        new_feature_idx = max(scores, key=lambda feature_idx: scores[feature_idx])\n",
        "        return new_feature_idx, scores[new_feature_idx]\n",
        "\n",
        "    def _get_support_mask(self):\n",
        "        check_is_fitted(self)\n",
        "        return self.support_\n",
        "\n",
        "    def _more_tags(self):\n",
        "        return {\n",
        "            \"allow_nan\": _safe_tags(self.estimator, key=\"allow_nan\"),\n",
        "        }"
      ],
      "metadata": {
        "_kg_hide-input": true,
        "execution": {
          "iopub.execute_input": "2024-02-29T01:00:05.468766Z",
          "iopub.status.busy": "2024-02-29T01:00:05.467982Z",
          "iopub.status.idle": "2024-02-29T01:00:05.518143Z",
          "shell.execute_reply": "2024-02-29T01:00:05.517102Z"
        },
        "papermill": {
          "duration": 0.091957,
          "end_time": "2024-02-29T01:00:05.52098",
          "exception": false,
          "start_time": "2024-02-29T01:00:05.429023",
          "status": "completed"
        },
        "tags": [],
        "jupyter": {
          "source_hidden": true
        },
        "id": "eTr1lhkSIm7H"
      },
      "execution_count": null,
      "outputs": []
    },
    {
      "cell_type": "code",
      "source": [
        "def cross_val_score_sfs(estimator, X, y, cv, scoring, n_jobs):\n",
        "\n",
        "    categorical_features = list(X.select_dtypes('object'))\n",
        "    #if 'patient_zip3' in list(X):\n",
        "    #    categorical_features += ['patient_zip3']\n",
        "\n",
        "    scores = np.zeros((cv.get_n_splits()))\n",
        "\n",
        "    if list(X) == ['patient_gender']:\n",
        "        return np.array([.5])\n",
        "\n",
        "    for fold, (train_idx, val_idx) in enumerate(cv.split(X, y)):\n",
        "\n",
        "        X_train = X.iloc[train_idx].reset_index(drop = True)\n",
        "        y_train = y.iloc[train_idx].reset_index(drop = True)\n",
        "\n",
        "        X_val = X.iloc[val_idx].reset_index(drop = True)\n",
        "        y_val = y.iloc[val_idx].reset_index(drop = True)\n",
        "\n",
        "        enc = MEstimateEncoder(cols = categorical_features).fit(X_train, y_train)\n",
        "        X_train = enc.transform(X_train)\n",
        "        X_val = enc.transform(X_val)\n",
        "\n",
        "        if 'patient_zip3' in X.columns:\n",
        "            cat_enc = CatBoostEncoder(cols = ['patient_zip3']).fit(X_train, y_train)\n",
        "            X_train = cat_enc.transform(X_train)\n",
        "            X_val = cat_enc.transform(X_val)\n",
        "\n",
        "        model = clone(estimator).fit(X_train, y_train)\n",
        "\n",
        "        #model = make_pipeline(\n",
        "        #    CatImputer,\n",
        "        #    CatBoostClassifier(random_state = seed, verbose = 0, cat_features = categorical_features)\n",
        "        #).fit(X_train, y_train)\n",
        "\n",
        "        scores[fold] = scoring(model, X_val, y_val)\n",
        "\n",
        "    print(f'{scores.mean():.5f}: {list(X)}')\n",
        "\n",
        "    return scores"
      ],
      "metadata": {
        "execution": {
          "iopub.execute_input": "2024-02-29T01:00:05.597021Z",
          "iopub.status.busy": "2024-02-29T01:00:05.596376Z",
          "iopub.status.idle": "2024-02-29T01:00:05.606816Z",
          "shell.execute_reply": "2024-02-29T01:00:05.605993Z"
        },
        "papermill": {
          "duration": 0.051842,
          "end_time": "2024-02-29T01:00:05.609419",
          "exception": false,
          "start_time": "2024-02-29T01:00:05.557577",
          "status": "completed"
        },
        "tags": [],
        "_kg_hide-input": true,
        "jupyter": {
          "source_hidden": true
        },
        "id": "Yo0HkSzfIm7H"
      },
      "execution_count": null,
      "outputs": []
    },
    {
      "cell_type": "code",
      "source": [
        "'''SequentialFeatureSelector(\n",
        "    make_pipeline(SimpleImputer(), StandardScaler(), ScaledRidgeClassifier()),\n",
        "    scoring = roc_scorer,\n",
        "    tol = -1e-4,\n",
        "    cv = skf,\n",
        "    direction = 'backward'\n",
        ").fit(\n",
        "    (Preprocessor.transform(X)),\n",
        "    y\n",
        ").transform(\n",
        "    (Preprocessor.transform(X)).fillna(0)\n",
        ")'''"
      ],
      "metadata": {
        "execution": {
          "iopub.execute_input": "2024-02-29T01:00:05.686551Z",
          "iopub.status.busy": "2024-02-29T01:00:05.685833Z",
          "iopub.status.idle": "2024-02-29T01:00:05.693826Z",
          "shell.execute_reply": "2024-02-29T01:00:05.692891Z"
        },
        "papermill": {
          "duration": 0.049306,
          "end_time": "2024-02-29T01:00:05.696462",
          "exception": false,
          "start_time": "2024-02-29T01:00:05.647156",
          "status": "completed"
        },
        "tags": [],
        "_kg_hide-output": true,
        "_kg_hide-input": true,
        "id": "x-urrdWXIm7H"
      },
      "execution_count": null,
      "outputs": []
    },
    {
      "cell_type": "markdown",
      "source": [
        "# Neural Network"
      ],
      "metadata": {
        "papermill": {
          "duration": 0.036283,
          "end_time": "2024-02-29T01:00:05.769873",
          "exception": false,
          "start_time": "2024-02-29T01:00:05.73359",
          "status": "completed"
        },
        "tags": [],
        "id": "Vsdr2A16Im7H"
      }
    },
    {
      "cell_type": "code",
      "source": [
        "class TensorFlower(BaseEstimator, ClassifierMixin):\n",
        "\n",
        "    def fit(self, x, y):\n",
        "\n",
        "        tf.keras.utils.set_random_seed(seed)\n",
        "        tf.config.experimental.enable_op_determinism()\n",
        "\n",
        "        inputs = tf.keras.Input((x.shape[1],))\n",
        "        x0 = tf.keras.layers.BatchNormalization()(inputs)\n",
        "\n",
        "        x1 = tf.keras.layers.Dense(64)(x0)\n",
        "        x1 = tf.keras.layers.BatchNormalization()(x1)\n",
        "        x1 = tf.keras.layers.LeakyReLU()(x1)\n",
        "\n",
        "        x2 = tf.keras.layers.Dense(16)(x1)\n",
        "        x2 = tf.keras.layers.BatchNormalization()(x2)\n",
        "        x2 = tf.keras.layers.LeakyReLU()(x2)\n",
        "\n",
        "        x3 = tf.keras.layers.Dense(4)(x2)\n",
        "        x3 = tf.keras.layers.BatchNormalization()(x3)\n",
        "        x3 = tf.keras.layers.LeakyReLU()(x3)\n",
        "\n",
        "        x4 = tf.keras.layers.Dense(1)(x3)\n",
        "        x4 = tf.keras.layers.BatchNormalization()(x4)\n",
        "        outputs = tf.keras.activations.sigmoid(x4)\n",
        "\n",
        "        self.model = tf.keras.Model(inputs, outputs)\n",
        "        self.model.compile(loss = 'binary_crossentropy', optimizer = tf.keras.optimizers.AdamW(1e-4))\n",
        "\n",
        "        self.model.fit(x, y, epochs = 50, verbose = 0)\n",
        "        self.classes_ = np.unique(y)\n",
        "\n",
        "        return self\n",
        "\n",
        "    def predict_proba(self, x):\n",
        "\n",
        "        probabilities = np.zeros((len(x), 2))\n",
        "        probabilities[:, 1] = self.model.predict(x, verbose = 0)[:, 0]\n",
        "        probabilities[:, 0] = 1 - probabilities[:, 1]\n",
        "        return probabilities\n",
        "\n",
        "    def predict(self, x):\n",
        "\n",
        "        return np.argmax(self.predict_proba(x), axis = 1)\n",
        ""
      ],
      "metadata": {
        "execution": {
          "iopub.execute_input": "2024-02-29T01:00:05.845811Z",
          "iopub.status.busy": "2024-02-29T01:00:05.845155Z",
          "iopub.status.idle": "2024-02-29T01:00:05.858546Z",
          "shell.execute_reply": "2024-02-29T01:00:05.857419Z"
        },
        "papermill": {
          "duration": 0.05462,
          "end_time": "2024-02-29T01:00:05.861376",
          "exception": false,
          "start_time": "2024-02-29T01:00:05.806756",
          "status": "completed"
        },
        "tags": [],
        "id": "k13CvNySIm7I"
      },
      "execution_count": null,
      "outputs": []
    },
    {
      "cell_type": "code",
      "source": [
        "TensorFlowey = make_pipeline(\n",
        "    Preprocessor,\n",
        "    MEstimateEncoder(cols = ['patient_gender', 'payer_type', 'breast_cancer_diagnosis_code', 'breast_cancer_diagnosis_desc', 'metastatic_cancer_diagnosis_code', 'metastatic_first_novel_treatment', 'metastatic_first_novel_treatment_type', 'bmi_null', 'atmos_null', 'size_null']),\n",
        "    MEstimateEncoder(cols = ['patient_race', 'patient_state', 'Region', 'Division'], handle_missing = 'return_nan'),\n",
        "    FeatureSelector(['payer_type', 'patient_age', 'metastatic_cancer_diagnosis_code', 'age_40s', 'age_50s', 'age_over_80', 'family_size', 'income_household_75_to_100', 'home_value', 'education_less_highschool', 'education_some_college', 'self_employed', 'limited_english', 'commute_time', 'health_uninsured', 'ICD10', 'binned_age', 'bmi_null', 'size_null']),\n",
        "    SimpleImputer(),\n",
        "    TensorFlower()\n",
        ")\n",
        "\n",
        "#_, oof_list['TF'], predict_list['TF'] = cross_val_score(TensorFlowey, show_importance = False)"
      ],
      "metadata": {
        "execution": {
          "iopub.execute_input": "2024-02-29T01:00:05.937681Z",
          "iopub.status.busy": "2024-02-29T01:00:05.937234Z",
          "iopub.status.idle": "2024-02-29T01:00:05.945043Z",
          "shell.execute_reply": "2024-02-29T01:00:05.943843Z"
        },
        "papermill": {
          "duration": 0.04856,
          "end_time": "2024-02-29T01:00:05.947521",
          "exception": false,
          "start_time": "2024-02-29T01:00:05.898961",
          "status": "completed"
        },
        "tags": [],
        "id": "qXvJi3alIm7I"
      },
      "execution_count": null,
      "outputs": []
    },
    {
      "cell_type": "markdown",
      "source": [
        "# SVC"
      ],
      "metadata": {
        "papermill": {
          "duration": 0.03712,
          "end_time": "2024-02-29T01:00:06.021803",
          "exception": false,
          "start_time": "2024-02-29T01:00:05.984683",
          "status": "completed"
        },
        "tags": [],
        "id": "p3SExpF4Im7I"
      }
    },
    {
      "cell_type": "code",
      "source": [
        "SVM = make_pipeline(\n",
        "    Preprocessor,\n",
        "    MEstimateEncoder(cols = ['patient_gender', 'payer_type', 'breast_cancer_diagnosis_code', 'breast_cancer_diagnosis_desc', 'metastatic_cancer_diagnosis_code', 'metastatic_first_novel_treatment', 'metastatic_first_novel_treatment_type', 'bmi_null', 'atmos_null', 'size_null']),\n",
        "    MEstimateEncoder(cols = ['patient_race', 'patient_state', 'Region', 'Division'], handle_missing = 'return_nan'),\n",
        "    CatBoostEncoder(cols = ['patient_zip3']),\n",
        "    FeatureSelector(['payer_type', 'patient_zip3', 'patient_age', 'bmi', 'breast_cancer_diagnosis_code', 'breast_cancer_diagnosis_desc', 'metastatic_cancer_diagnosis_code', 'metastatic_first_novel_treatment', 'metastatic_first_novel_treatment_type', 'Region', 'Division', 'population', 'density', 'age_median', 'age_under_10', 'age_10_to_19', 'age_20s', 'age_30s', 'age_40s', 'age_50s', 'age_60s', 'age_70s', 'age_over_80', 'male', 'female', 'married', 'divorced', 'never_married', 'widowed', 'family_size', 'family_dual_income', 'income_household_median', 'income_household_under_5', 'income_household_5_to_10', 'income_household_10_to_15', 'income_household_15_to_20', 'income_household_20_to_25', 'income_household_25_to_35', 'income_household_35_to_50', 'income_household_50_to_75', 'income_household_75_to_100', 'income_household_100_to_150', 'income_household_150_over', 'income_household_six_figure', 'income_individual_median', 'home_ownership', 'housing_units', 'home_value', 'rent_median', 'rent_burden', 'education_less_highschool', 'education_highschool', 'education_some_college', 'education_bachelors', 'education_graduate', 'education_college_or_above', 'education_stem_degree', 'labor_force_participation', 'unemployment_rate', 'self_employed', 'farmer', 'race_white', 'race_black', 'race_asian', 'race_native', 'race_pacific', 'race_other', 'race_multiple', 'hispanic', 'disabled', 'poverty', 'limited_english', 'commute_time', 'health_uninsured', 'veteran', 'Ozone', 'PM25', 'N02', 'bmi_null', 'atmos_null', 'size_null']),\n",
        "    SimpleImputer(),\n",
        "    StandardScaler(),\n",
        "    SVC(random_state = seed, probability = True, max_iter = 10000000)\n",
        ")\n",
        "\n",
        "_, oof_list['SVM'], predict_list['SVM'] = cross_val_score(SVM)"
      ],
      "metadata": {
        "execution": {
          "iopub.execute_input": "2024-02-29T01:00:06.09922Z",
          "iopub.status.busy": "2024-02-29T01:00:06.097977Z",
          "iopub.status.idle": "2024-02-29T01:03:47.031013Z",
          "shell.execute_reply": "2024-02-29T01:03:47.030018Z"
        },
        "papermill": {
          "duration": 221.012088,
          "end_time": "2024-02-29T01:03:47.070953",
          "exception": false,
          "start_time": "2024-02-29T01:00:06.058865",
          "status": "completed"
        },
        "tags": [],
        "id": "rBUQ4HGDIm7I"
      },
      "execution_count": null,
      "outputs": []
    },
    {
      "cell_type": "markdown",
      "source": [
        "# GaussianNB"
      ],
      "metadata": {
        "papermill": {
          "duration": 0.036221,
          "end_time": "2024-02-29T01:03:47.144705",
          "exception": false,
          "start_time": "2024-02-29T01:03:47.108484",
          "status": "completed"
        },
        "tags": [],
        "id": "o_TYlBymIm7I"
      }
    },
    {
      "cell_type": "code",
      "source": [
        "GNB = make_pipeline(\n",
        "    Preprocessor,\n",
        "    MEstimateEncoder(cols = ['patient_gender', 'payer_type', 'breast_cancer_diagnosis_code', 'breast_cancer_diagnosis_desc', 'metastatic_cancer_diagnosis_code', 'metastatic_first_novel_treatment', 'metastatic_first_novel_treatment_type', 'bmi_null', 'atmos_null', 'size_null']),\n",
        "    MEstimateEncoder(cols = ['patient_race', 'patient_state', 'Region', 'Division'], handle_missing = 'return_nan'),\n",
        "    FeatureSelector(['payer_type', 'patient_age', 'metastatic_cancer_diagnosis_code', 'age_40s', 'age_50s', 'age_over_80', 'family_size', 'income_household_75_to_100', 'home_value', 'education_less_highschool', 'education_some_college', 'self_employed', 'limited_english', 'commute_time', 'health_uninsured', 'ICD10', 'binned_age', 'bmi_null', 'size_null']),\n",
        "    SimpleImputer(),\n",
        "    StandardScaler(),\n",
        "    GaussianNB()\n",
        ")\n",
        "\n",
        "#_, oof_list['GNB'], predict_list['GNB'] = cross_val_score(GNB)"
      ],
      "metadata": {
        "execution": {
          "iopub.execute_input": "2024-02-29T01:03:47.221618Z",
          "iopub.status.busy": "2024-02-29T01:03:47.220626Z",
          "iopub.status.idle": "2024-02-29T01:03:47.228052Z",
          "shell.execute_reply": "2024-02-29T01:03:47.227188Z"
        },
        "papermill": {
          "duration": 0.048451,
          "end_time": "2024-02-29T01:03:47.230589",
          "exception": false,
          "start_time": "2024-02-29T01:03:47.182138",
          "status": "completed"
        },
        "tags": [],
        "id": "D5R4w_SHIm7I"
      },
      "execution_count": null,
      "outputs": []
    },
    {
      "cell_type": "markdown",
      "source": [
        "# BernoulliNB"
      ],
      "metadata": {
        "papermill": {
          "duration": 0.03655,
          "end_time": "2024-02-29T01:03:47.304168",
          "exception": false,
          "start_time": "2024-02-29T01:03:47.267618",
          "status": "completed"
        },
        "tags": [],
        "id": "veuklOXwIm7I"
      }
    },
    {
      "cell_type": "code",
      "source": [
        "BNB = make_pipeline(\n",
        "    Preprocessor,\n",
        "    MEstimateEncoder(cols = ['patient_gender', 'payer_type', 'breast_cancer_diagnosis_code', 'breast_cancer_diagnosis_desc', 'metastatic_cancer_diagnosis_code', 'metastatic_first_novel_treatment', 'metastatic_first_novel_treatment_type', 'bmi_null', 'atmos_null', 'size_null']),\n",
        "    MEstimateEncoder(cols = ['patient_race', 'patient_state', 'Region', 'Division']),\n",
        "    FeatureSelector(['payer_type', 'patient_age', 'bmi', 'metastatic_cancer_diagnosis_code', 'Region', 'age_30s', 'age_50s', 'age_60s', 'family_size', 'income_household_under_5', 'income_household_35_to_50', 'home_ownership', 'education_less_highschool', 'self_employed', 'race_white', 'race_pacific', 'race_other', 'ICD10', 'binned_age', 'bmi_null', 'size_null']),\n",
        "    SimpleImputer(),\n",
        "    StandardScaler(),\n",
        "    BernoulliNB()\n",
        ")\n",
        "\n",
        "#_, oof_list['BNB'], predict_list['BNB'] = cross_val_score(BNB)"
      ],
      "metadata": {
        "execution": {
          "iopub.execute_input": "2024-02-29T01:03:47.380004Z",
          "iopub.status.busy": "2024-02-29T01:03:47.379523Z",
          "iopub.status.idle": "2024-02-29T01:03:47.387314Z",
          "shell.execute_reply": "2024-02-29T01:03:47.386135Z"
        },
        "papermill": {
          "duration": 0.048284,
          "end_time": "2024-02-29T01:03:47.389658",
          "exception": false,
          "start_time": "2024-02-29T01:03:47.341374",
          "status": "completed"
        },
        "tags": [],
        "id": "efqULtz-Im7I"
      },
      "execution_count": null,
      "outputs": []
    },
    {
      "cell_type": "markdown",
      "source": [
        "# Log"
      ],
      "metadata": {
        "papermill": {
          "duration": 0.036958,
          "end_time": "2024-02-29T01:03:47.463781",
          "exception": false,
          "start_time": "2024-02-29T01:03:47.426823",
          "status": "completed"
        },
        "tags": [],
        "id": "yDlNVPEnIm7I"
      }
    },
    {
      "cell_type": "code",
      "source": [
        "Log = make_pipeline(\n",
        "    Preprocessor,\n",
        "    MEstimateEncoder(cols = ['patient_gender', 'payer_type', 'breast_cancer_diagnosis_code', 'breast_cancer_diagnosis_desc', 'metastatic_cancer_diagnosis_code', 'metastatic_first_novel_treatment', 'metastatic_first_novel_treatment_type', 'bmi_null', 'atmos_null', 'size_null']),\n",
        "    MEstimateEncoder(cols = ['patient_race', 'patient_state', 'Region', 'Division'], handle_missing = 'return_nan'),\n",
        "    FeatureSelector(['payer_type', 'patient_age', 'metastatic_cancer_diagnosis_code', 'age_median', 'age_40s', 'age_60s', 'never_married', 'family_size', 'family_dual_income', 'income_household_under_5', 'income_household_10_to_15', 'income_household_25_to_35', 'income_household_35_to_50', 'income_household_50_to_75', 'income_household_six_figure', 'housing_units', 'home_value', 'rent_burden', 'education_less_highschool', 'education_stem_degree', 'self_employed', 'race_white', 'race_black', 'race_asian', 'race_multiple', 'commute_time', 'health_uninsured', 'Ozone', 'ICD10', 'bmi_null']),\n",
        "    SimpleImputer(),\n",
        "    StandardScaler(),\n",
        "    LogisticRegression(random_state = seed, max_iter = 1000000000)\n",
        ")\n",
        "\n",
        "_, oof_list['Log'], predict_list['Log'] = cross_val_score(Log, show_importance = False)"
      ],
      "metadata": {
        "execution": {
          "iopub.execute_input": "2024-02-29T01:03:47.539239Z",
          "iopub.status.busy": "2024-02-29T01:03:47.538795Z",
          "iopub.status.idle": "2024-02-29T01:03:58.824976Z",
          "shell.execute_reply": "2024-02-29T01:03:58.823796Z"
        },
        "papermill": {
          "duration": 11.329367,
          "end_time": "2024-02-29T01:03:58.829718",
          "exception": false,
          "start_time": "2024-02-29T01:03:47.500351",
          "status": "completed"
        },
        "tags": [],
        "id": "owFmBwQ6Im7J"
      },
      "execution_count": null,
      "outputs": []
    },
    {
      "cell_type": "markdown",
      "source": [
        "# RidgeClassifier"
      ],
      "metadata": {
        "papermill": {
          "duration": 0.043943,
          "end_time": "2024-02-29T01:03:58.954077",
          "exception": false,
          "start_time": "2024-02-29T01:03:58.910134",
          "status": "completed"
        },
        "tags": [],
        "id": "ZPC9Zl3uIm7J"
      }
    },
    {
      "cell_type": "code",
      "source": [
        "class ScaledRidgeClassifier(BaseEstimator, ClassifierMixin):\n",
        "\n",
        "    def fit(self, x, y):\n",
        "        model = RidgeClassifier(random_state = seed).fit(x, y)\n",
        "        self.weight = model.coef_[0]\n",
        "        self.bias = model.intercept_[0]\n",
        "        self.classes_ = np.unique(y)\n",
        "        return self\n",
        "\n",
        "    def predict_proba(self, x):\n",
        "        predictions = np.zeros((len(x), 2))\n",
        "        predictions[:, 1] = MinMaxScaler().fit_transform(\n",
        "            (x.to_numpy() @ self.weight + self.bias).reshape((-1, 1))\n",
        "        ).x0\n",
        "        predictions[:, 0] = 1 - predictions[:, 1]\n",
        "        return predictions\n",
        "\n",
        "    def predict(self, x):\n",
        "        return np.argmax(self.predict_proba(x), axis = 1)"
      ],
      "metadata": {
        "execution": {
          "iopub.execute_input": "2024-02-29T01:03:59.032113Z",
          "iopub.status.busy": "2024-02-29T01:03:59.03168Z",
          "iopub.status.idle": "2024-02-29T01:03:59.041307Z",
          "shell.execute_reply": "2024-02-29T01:03:59.039966Z"
        },
        "papermill": {
          "duration": 0.052793,
          "end_time": "2024-02-29T01:03:59.043998",
          "exception": false,
          "start_time": "2024-02-29T01:03:58.991205",
          "status": "completed"
        },
        "tags": [],
        "id": "h6x_2lmpIm7J"
      },
      "execution_count": null,
      "outputs": []
    },
    {
      "cell_type": "code",
      "source": [
        "Ridger = make_pipeline(\n",
        "    MEstimateEncoder(cols = ['patient_gender', 'payer_type', 'breast_cancer_diagnosis_code', 'breast_cancer_diagnosis_desc', 'metastatic_cancer_diagnosis_code', 'metastatic_first_novel_treatment', 'metastatic_first_novel_treatment_type']),\n",
        "    MEstimateEncoder(cols = ['patient_race', 'patient_state', 'Region', 'Division']),\n",
        "    CatBoostEncoder(cols = ['patient_zip3']),\n",
        "    SimpleImputer(),\n",
        "    ScaledRidgeClassifier()\n",
        ")\n",
        "\n",
        "_, oof_list['Ridge'], predict_list['Ridge'] = cross_val_score(Ridger)"
      ],
      "metadata": {
        "execution": {
          "iopub.execute_input": "2024-02-29T01:03:59.120795Z",
          "iopub.status.busy": "2024-02-29T01:03:59.120083Z",
          "iopub.status.idle": "2024-02-29T01:04:03.355178Z",
          "shell.execute_reply": "2024-02-29T01:04:03.353659Z"
        },
        "papermill": {
          "duration": 4.279031,
          "end_time": "2024-02-29T01:04:03.360032",
          "exception": false,
          "start_time": "2024-02-29T01:03:59.081001",
          "status": "completed"
        },
        "tags": [],
        "id": "uFLYt5gMIm7J"
      },
      "execution_count": null,
      "outputs": []
    },
    {
      "cell_type": "markdown",
      "source": [
        "# LDA"
      ],
      "metadata": {
        "papermill": {
          "duration": 0.041861,
          "end_time": "2024-02-29T01:04:03.485443",
          "exception": false,
          "start_time": "2024-02-29T01:04:03.443582",
          "status": "completed"
        },
        "tags": [],
        "id": "Oyd_0jKkIm7J"
      }
    },
    {
      "cell_type": "code",
      "source": [
        "LDA = ICDWrapper(make_pipeline(\n",
        "    Preprocessor,\n",
        "    MEstimateEncoder(cols = ['patient_gender', 'payer_type', 'breast_cancer_diagnosis_code', 'breast_cancer_diagnosis_desc', 'metastatic_cancer_diagnosis_code', 'metastatic_first_novel_treatment', 'metastatic_first_novel_treatment_type', 'bmi_null', 'atmos_null', 'size_null']),\n",
        "    MEstimateEncoder(cols = ['patient_race', 'patient_state', 'Region', 'Division'], handle_missing = 'return_nan'),\n",
        "    FeatureSelector(['payer_type', 'patient_age', 'metastatic_cancer_diagnosis_code', 'age_median', 'age_40s', 'age_60s', 'never_married', 'family_size', 'family_dual_income', 'income_household_under_5', 'income_household_10_to_15', 'income_household_25_to_35', 'income_household_35_to_50', 'income_household_50_to_75', 'income_household_six_figure', 'housing_units', 'home_value', 'rent_burden', 'education_less_highschool', 'education_highschool', 'education_some_college', 'education_college_or_above', 'education_stem_degree', 'self_employed', 'race_white', 'race_black', 'race_asian', 'race_multiple', 'commute_time', 'health_uninsured', 'Ozone', 'ICD10', 'binned_age', 'bmi_null']),\n",
        "    SimpleImputer(),\n",
        "    #StandardScaler(),\n",
        "    LinearDiscriminantAnalysis()\n",
        "))\n",
        "\n",
        "_, oof_list['LDA'], predict_list['LDA'] = cross_val_score(LDA, show_importance = False)"
      ],
      "metadata": {
        "execution": {
          "iopub.execute_input": "2024-02-29T01:04:03.561901Z",
          "iopub.status.busy": "2024-02-29T01:04:03.561477Z",
          "iopub.status.idle": "2024-02-29T01:04:17.9608Z",
          "shell.execute_reply": "2024-02-29T01:04:17.957055Z"
        },
        "papermill": {
          "duration": 14.442292,
          "end_time": "2024-02-29T01:04:17.964915",
          "exception": false,
          "start_time": "2024-02-29T01:04:03.522623",
          "status": "completed"
        },
        "tags": [],
        "id": "T2cO19HzIm7J"
      },
      "execution_count": null,
      "outputs": []
    },
    {
      "cell_type": "markdown",
      "source": [
        "# K-Neighbors"
      ],
      "metadata": {
        "papermill": {
          "duration": 0.041691,
          "end_time": "2024-02-29T01:04:18.088125",
          "exception": false,
          "start_time": "2024-02-29T01:04:18.046434",
          "status": "completed"
        },
        "tags": [],
        "id": "WLNIPRkdIm7J"
      }
    },
    {
      "cell_type": "code",
      "source": [
        "KNN = make_pipeline(\n",
        "    Preprocessor,\n",
        "    MEstimateEncoder(cols = ['patient_gender', 'payer_type', 'breast_cancer_diagnosis_code', 'breast_cancer_diagnosis_desc', 'metastatic_cancer_diagnosis_code', 'metastatic_first_novel_treatment', 'metastatic_first_novel_treatment_type', 'bmi_null']),\n",
        "    MEstimateEncoder(cols = ['patient_race', 'patient_state', 'Region', 'Division']),\n",
        "    FeatureSelector(['patient_race', 'payer_type', 'patient_age', 'bmi', 'breast_cancer_diagnosis_code', 'breast_cancer_diagnosis_desc', 'metastatic_cancer_diagnosis_code', 'Region', 'Division', 'density', 'age_median', 'age_under_10', 'age_10_to_19', 'age_40s', 'age_60s', 'age_70s', 'age_over_80', 'male', 'female', 'married', 'divorced', 'widowed', 'income_household_5_to_10', 'income_household_15_to_20', 'income_household_20_to_25', 'income_household_50_to_75', 'income_household_75_to_100', 'housing_units', 'education_less_highschool', 'education_some_college', 'education_graduate', 'education_stem_degree', 'unemployment_rate', 'farmer', 'race_white', 'race_asian', 'race_native', 'race_multiple', 'poverty', 'limited_english', 'commute_time', 'health_uninsured', 'veteran', 'ICD10', 'binned_age', 'bmi_null']),\n",
        "    SimpleImputer(),\n",
        "    StandardScaler(),\n",
        "    KNeighborsClassifier(100)\n",
        ")\n",
        "\n",
        "_, oof_list['KNN'], predict_list['KNN'] = cross_val_score(KNN)"
      ],
      "metadata": {
        "execution": {
          "iopub.execute_input": "2024-02-29T01:04:18.165516Z",
          "iopub.status.busy": "2024-02-29T01:04:18.16513Z",
          "iopub.status.idle": "2024-02-29T01:04:38.47968Z",
          "shell.execute_reply": "2024-02-29T01:04:38.478138Z"
        },
        "papermill": {
          "duration": 20.357361,
          "end_time": "2024-02-29T01:04:38.483638",
          "exception": false,
          "start_time": "2024-02-29T01:04:18.126277",
          "status": "completed"
        },
        "tags": [],
        "id": "UmmubkBUIm7J"
      },
      "execution_count": null,
      "outputs": []
    },
    {
      "cell_type": "markdown",
      "source": [
        "# Random Forest"
      ],
      "metadata": {
        "papermill": {
          "duration": 0.037486,
          "end_time": "2024-02-29T01:04:38.559943",
          "exception": false,
          "start_time": "2024-02-29T01:04:38.522457",
          "status": "completed"
        },
        "tags": [],
        "id": "My5QRWOnIm7J"
      }
    },
    {
      "cell_type": "code",
      "source": [
        "RF = make_pipeline(\n",
        "    MEstimateEncoder(cols = ['patient_gender', 'payer_type', 'breast_cancer_diagnosis_code', 'breast_cancer_diagnosis_desc', 'metastatic_cancer_diagnosis_code', 'metastatic_first_novel_treatment', 'metastatic_first_novel_treatment_type']),\n",
        "    MEstimateEncoder(cols = ['patient_race', 'patient_state', 'Region', 'Division'], handle_missing = 'return_nan'),\n",
        "    FeatureSelector(['payer_type', 'breast_cancer_diagnosis_code', 'metastatic_cancer_diagnosis_code']),\n",
        "    SimpleImputer(),\n",
        "    RandomForestClassifier(random_state = seed, criterion = 'log_loss', n_estimators = 100)\n",
        ")\n",
        "\n",
        "_, oof_list['RF'], predict_list['RF'] = cross_val_score(RF)"
      ],
      "metadata": {
        "execution": {
          "iopub.execute_input": "2024-02-29T01:04:38.648632Z",
          "iopub.status.busy": "2024-02-29T01:04:38.648127Z",
          "iopub.status.idle": "2024-02-29T01:04:46.561984Z",
          "shell.execute_reply": "2024-02-29T01:04:46.560799Z"
        },
        "papermill": {
          "duration": 7.966769,
          "end_time": "2024-02-29T01:04:46.564467",
          "exception": false,
          "start_time": "2024-02-29T01:04:38.597698",
          "status": "completed"
        },
        "tags": [],
        "id": "6s4vsf9vIm7K"
      },
      "execution_count": null,
      "outputs": []
    },
    {
      "cell_type": "markdown",
      "source": [
        "# Extra Trees"
      ],
      "metadata": {
        "papermill": {
          "duration": 0.036971,
          "end_time": "2024-02-29T01:04:46.638999",
          "exception": false,
          "start_time": "2024-02-29T01:04:46.602028",
          "status": "completed"
        },
        "tags": [],
        "id": "-yBK-QOaIm7K"
      }
    },
    {
      "cell_type": "code",
      "source": [
        "ET = make_pipeline(\n",
        "    MEstimateEncoder(cols = ['patient_gender', 'payer_type', 'breast_cancer_diagnosis_code', 'breast_cancer_diagnosis_desc', 'metastatic_cancer_diagnosis_code', 'metastatic_first_novel_treatment', 'metastatic_first_novel_treatment_type']),\n",
        "    MEstimateEncoder(cols = ['patient_race', 'patient_state', 'Region', 'Division'], handle_missing = 'return_nan'),\n",
        "    FeatureSelector(['breast_cancer_diagnosis_code', 'metastatic_cancer_diagnosis_code', 'metastatic_first_novel_treatment_type']),\n",
        "    SimpleImputer(),\n",
        "    ExtraTreesClassifier(random_state = seed, criterion = 'log_loss')\n",
        ")\n",
        "\n",
        "_, oof_list['ET'], predict_list['ET'] = cross_val_score(ET)"
      ],
      "metadata": {
        "execution": {
          "iopub.execute_input": "2024-02-29T01:04:46.715603Z",
          "iopub.status.busy": "2024-02-29T01:04:46.715175Z",
          "iopub.status.idle": "2024-02-29T01:04:53.732604Z",
          "shell.execute_reply": "2024-02-29T01:04:53.731165Z"
        },
        "papermill": {
          "duration": 7.059324,
          "end_time": "2024-02-29T01:04:53.735389",
          "exception": false,
          "start_time": "2024-02-29T01:04:46.676065",
          "status": "completed"
        },
        "tags": [],
        "id": "_FN4_5_JIm7K"
      },
      "execution_count": null,
      "outputs": []
    },
    {
      "cell_type": "markdown",
      "source": [
        "# AdaBoost"
      ],
      "metadata": {
        "papermill": {
          "duration": 0.037224,
          "end_time": "2024-02-29T01:04:53.811431",
          "exception": false,
          "start_time": "2024-02-29T01:04:53.774207",
          "status": "completed"
        },
        "tags": [],
        "id": "XKhVNVXiIm7K"
      }
    },
    {
      "cell_type": "code",
      "source": [
        "Ada = make_pipeline(\n",
        "    MEstimateEncoder(cols = ['patient_gender', 'payer_type', 'breast_cancer_diagnosis_code', 'breast_cancer_diagnosis_desc', 'metastatic_cancer_diagnosis_code', 'metastatic_first_novel_treatment', 'metastatic_first_novel_treatment_type']),\n",
        "    MEstimateEncoder(cols = ['patient_race', 'patient_state', 'Region', 'Division'], handle_missing = 'return_nan'),\n",
        "    FeatureSelector(['payer_type', 'patient_age', 'breast_cancer_diagnosis_code', 'breast_cancer_diagnosis_desc', 'metastatic_cancer_diagnosis_code', 'Region', 'income_household_under_5', 'income_household_15_to_20', 'home_value', 'unemployment_rate', 'race_pacific']),\n",
        "    SimpleImputer(),\n",
        "    AdaBoostClassifier(random_state = seed)\n",
        ")\n",
        "\n",
        "#_, oof_list['Ada'], predict_list['Ada'] = cross_val_score(Ada)"
      ],
      "metadata": {
        "execution": {
          "iopub.execute_input": "2024-02-29T01:04:53.888561Z",
          "iopub.status.busy": "2024-02-29T01:04:53.888113Z",
          "iopub.status.idle": "2024-02-29T01:04:53.895368Z",
          "shell.execute_reply": "2024-02-29T01:04:53.894021Z"
        },
        "papermill": {
          "duration": 0.048756,
          "end_time": "2024-02-29T01:04:53.897804",
          "exception": false,
          "start_time": "2024-02-29T01:04:53.849048",
          "status": "completed"
        },
        "tags": [],
        "id": "8HPy3X4SIm7K"
      },
      "execution_count": null,
      "outputs": []
    },
    {
      "cell_type": "markdown",
      "source": [
        "# Gradient Boosting Classifier"
      ],
      "metadata": {
        "papermill": {
          "duration": 0.039862,
          "end_time": "2024-02-29T01:04:53.975802",
          "exception": false,
          "start_time": "2024-02-29T01:04:53.93594",
          "status": "completed"
        },
        "tags": [],
        "id": "Qg6KWO3NIm7K"
      }
    },
    {
      "cell_type": "code",
      "source": [
        "def gb_objective(trial):\n",
        "    params = {\n",
        "        'learning_rate' : trial.suggest_float('learning_rate', .001, .1, log = True),\n",
        "        'max_depth' : trial.suggest_int('max_depth', 2, 20),\n",
        "        'subsample' : trial.suggest_float('subsample', .1, 1),\n",
        "        'min_samples_split' : trial.suggest_int('min_samples_split', 2, 50),\n",
        "        'min_samples_leaf' : trial.suggest_int('min_samples_leaf', 2, 50),\n",
        "        'n_estimators' : 500,\n",
        "        'random_state' : seed,\n",
        "    }\n",
        "\n",
        "    optuna_model = make_pipeline(\n",
        "        MEstimateEncoder(cols = ['patient_gender', 'payer_type', 'breast_cancer_diagnosis_code', 'breast_cancer_diagnosis_desc', 'metastatic_cancer_diagnosis_code', 'metastatic_first_novel_treatment', 'metastatic_first_novel_treatment_type']),\n",
        "        MEstimateEncoder(cols = ['patient_race', 'patient_state', 'Region', 'Division'], handle_missing = 'return_nan'),\n",
        "        FeatureSelector(['payer_type', 'patient_age', 'breast_cancer_diagnosis_code', 'metastatic_cancer_diagnosis_code', 'Region', 'Division', 'rent_median', 'race_other']),\n",
        "        SimpleImputer(),\n",
        "        GradientBoostingClassifier(**params)\n",
        "    )\n",
        "\n",
        "    optuna_score, _, _ = cross_val_score(optuna_model)\n",
        "\n",
        "    return np.mean(optuna_score)\n",
        "\n",
        "gb_study = optuna.create_study(direction = 'maximize')"
      ],
      "metadata": {
        "execution": {
          "iopub.execute_input": "2024-02-29T01:04:54.056676Z",
          "iopub.status.busy": "2024-02-29T01:04:54.056177Z",
          "iopub.status.idle": "2024-02-29T01:04:54.06931Z",
          "shell.execute_reply": "2024-02-29T01:04:54.068467Z"
        },
        "papermill": {
          "duration": 0.057976,
          "end_time": "2024-02-29T01:04:54.072319",
          "exception": false,
          "start_time": "2024-02-29T01:04:54.014343",
          "status": "completed"
        },
        "tags": [],
        "id": "bPf8r6FYIm7K"
      },
      "execution_count": null,
      "outputs": []
    },
    {
      "cell_type": "code",
      "source": [
        "#gb_study.optimize(gb_objective, 200)"
      ],
      "metadata": {
        "execution": {
          "iopub.execute_input": "2024-02-29T01:04:54.168373Z",
          "iopub.status.busy": "2024-02-29T01:04:54.167627Z",
          "iopub.status.idle": "2024-02-29T01:04:54.171573Z",
          "shell.execute_reply": "2024-02-29T01:04:54.170827Z"
        },
        "papermill": {
          "duration": 0.045305,
          "end_time": "2024-02-29T01:04:54.173596",
          "exception": false,
          "start_time": "2024-02-29T01:04:54.128291",
          "status": "completed"
        },
        "tags": [],
        "id": "mmTyZhdPIm7K"
      },
      "execution_count": null,
      "outputs": []
    },
    {
      "cell_type": "code",
      "source": [
        "gb_params = {'learning_rate': 0.01113789617580569, 'max_depth': 5, 'subsample': 0.7141679039385381, 'min_samples_split': 30, 'min_samples_leaf': 13}\n",
        "\n",
        "GB = make_pipeline(\n",
        "    MEstimateEncoder(cols = ['patient_gender', 'payer_type', 'breast_cancer_diagnosis_code', 'breast_cancer_diagnosis_desc', 'metastatic_cancer_diagnosis_code', 'metastatic_first_novel_treatment', 'metastatic_first_novel_treatment_type']),\n",
        "    MEstimateEncoder(cols = ['patient_race', 'patient_state', 'Region', 'Division'], handle_missing = 'return_nan'),\n",
        "    FeatureSelector(['payer_type', 'patient_age', 'breast_cancer_diagnosis_code', 'metastatic_cancer_diagnosis_code', 'Region', 'Division', 'rent_median', 'race_other']),\n",
        "    SimpleImputer(),\n",
        "    GradientBoostingClassifier(random_state = seed)\n",
        ")\n",
        "\n",
        "_, oof_list['GB'], predict_list['GB'] = cross_val_score(GB)"
      ],
      "metadata": {
        "execution": {
          "iopub.execute_input": "2024-02-29T01:04:54.252285Z",
          "iopub.status.busy": "2024-02-29T01:04:54.251584Z",
          "iopub.status.idle": "2024-02-29T01:05:02.400062Z",
          "shell.execute_reply": "2024-02-29T01:05:02.398844Z"
        },
        "papermill": {
          "duration": 8.191953,
          "end_time": "2024-02-29T01:05:02.40253",
          "exception": false,
          "start_time": "2024-02-29T01:04:54.210577",
          "status": "completed"
        },
        "tags": [],
        "id": "eL53y2HXIm7K"
      },
      "execution_count": null,
      "outputs": []
    },
    {
      "cell_type": "markdown",
      "source": [
        "# Hist Gradient Boosting Classifier"
      ],
      "metadata": {
        "papermill": {
          "duration": 0.037989,
          "end_time": "2024-02-29T01:05:02.478726",
          "exception": false,
          "start_time": "2024-02-29T01:05:02.440737",
          "status": "completed"
        },
        "tags": [],
        "id": "mxPlo0SQIm7K"
      }
    },
    {
      "cell_type": "code",
      "source": [
        "def hgb_objective(trial):\n",
        "    params = {\n",
        "        'learning_rate' : trial.suggest_float('learning_rate', .001, .1, log = True),\n",
        "        'max_depth' : trial.suggest_int('max_depth', 2, 20),\n",
        "        'max_leaf_nodes' : trial.suggest_int('max_leaf_nodes', 2, 50),\n",
        "        'min_samples_leaf' : trial.suggest_int('min_samples_leaf', 5, 50),\n",
        "        'l2_regularization' : trial.suggest_float('l2_regularization', .1, 20, log = True),\n",
        "        'max_iter' : 750,\n",
        "        'random_state' : seed,\n",
        "    }\n",
        "\n",
        "    optuna_model = make_pipeline(\n",
        "        MEstimateEncoder(categorical_features),\n",
        "        FeatureSelector(['payer_type', 'patient_age', 'breast_cancer_diagnosis_code', 'metastatic_cancer_diagnosis_code', 'Region', 'age_under_10', 'rent_median']),\n",
        "        SimpleImputer(),\n",
        "        HistGradientBoostingClassifier(**params)\n",
        "    )\n",
        "\n",
        "    optuna_score, _, _ = cross_val_score(optuna_model)\n",
        "\n",
        "    return np.mean(optuna_score)\n",
        "\n",
        "hgb_study = optuna.create_study(direction = 'maximize')"
      ],
      "metadata": {
        "execution": {
          "iopub.execute_input": "2024-02-29T01:05:02.556744Z",
          "iopub.status.busy": "2024-02-29T01:05:02.555944Z",
          "iopub.status.idle": "2024-02-29T01:05:02.566925Z",
          "shell.execute_reply": "2024-02-29T01:05:02.565482Z"
        },
        "papermill": {
          "duration": 0.052925,
          "end_time": "2024-02-29T01:05:02.569236",
          "exception": false,
          "start_time": "2024-02-29T01:05:02.516311",
          "status": "completed"
        },
        "tags": [],
        "id": "hgHQiUBaIm7K"
      },
      "execution_count": null,
      "outputs": []
    },
    {
      "cell_type": "code",
      "source": [
        "#hgb_study.optimize(hgb_objective, 200)"
      ],
      "metadata": {
        "execution": {
          "iopub.execute_input": "2024-02-29T01:05:02.647772Z",
          "iopub.status.busy": "2024-02-29T01:05:02.647373Z",
          "iopub.status.idle": "2024-02-29T01:05:02.651712Z",
          "shell.execute_reply": "2024-02-29T01:05:02.650651Z"
        },
        "papermill": {
          "duration": 0.046704,
          "end_time": "2024-02-29T01:05:02.654222",
          "exception": false,
          "start_time": "2024-02-29T01:05:02.607518",
          "status": "completed"
        },
        "tags": [],
        "id": "PHVZbQboIm7L"
      },
      "execution_count": null,
      "outputs": []
    },
    {
      "cell_type": "code",
      "source": [
        "hgb_params = {'learning_rate': 0.004309668685467947, 'max_depth': 11, 'max_leaf_nodes': 35, 'min_samples_leaf': 6, 'l2_regularization': 3.335157086503191}\n",
        "\n",
        "HGB = make_pipeline(\n",
        "    #MEstimateEncoder(cols = ['patient_gender', 'payer_type', 'breast_cancer_diagnosis_code', 'breast_cancer_diagnosis_desc', 'metastatic_cancer_diagnosis_code', 'metastatic_first_novel_treatment', 'metastatic_first_novel_treatment_type']),\n",
        "    #MEstimateEncoder(cols = ['patient_race', 'patient_state', 'Region', 'Division'], handle_missing = 'return_nan'),\n",
        "    MEstimateEncoder(categorical_features),\n",
        "    FeatureSelector(['payer_type', 'patient_age', 'breast_cancer_diagnosis_code', 'metastatic_cancer_diagnosis_code', 'Region', 'age_under_10', 'rent_median']),\n",
        "    SimpleImputer(),\n",
        "    HistGradientBoostingClassifier(**hgb_params, max_iter = 750, random_state = seed)\n",
        ")\n",
        "\n",
        "_, oof_list['HGB'], predict_list['HGB'] = cross_val_score(HGB)"
      ],
      "metadata": {
        "execution": {
          "iopub.execute_input": "2024-02-29T01:05:02.731508Z",
          "iopub.status.busy": "2024-02-29T01:05:02.731102Z",
          "iopub.status.idle": "2024-02-29T01:05:36.988405Z",
          "shell.execute_reply": "2024-02-29T01:05:36.986753Z"
        },
        "papermill": {
          "duration": 34.329928,
          "end_time": "2024-02-29T01:05:37.021891",
          "exception": false,
          "start_time": "2024-02-29T01:05:02.691963",
          "status": "completed"
        },
        "tags": [],
        "id": "phaW2fBjIm7L"
      },
      "execution_count": null,
      "outputs": []
    },
    {
      "cell_type": "markdown",
      "source": [
        "# XGBoost"
      ],
      "metadata": {
        "papermill": {
          "duration": 0.037229,
          "end_time": "2024-02-29T01:05:37.096705",
          "exception": false,
          "start_time": "2024-02-29T01:05:37.059476",
          "status": "completed"
        },
        "tags": [],
        "id": "BsCkCptaIm7L"
      }
    },
    {
      "cell_type": "code",
      "source": [
        "def xgb_objective(trial):\n",
        "    params = {\n",
        "        'eta' : trial.suggest_float('eta', .001, .3, log = True),\n",
        "        'max_depth' : trial.suggest_int('max_depth', 2, 30),\n",
        "        'subsample' : trial.suggest_float('subsample', .5, 1),\n",
        "        'colsample_bytree' : trial.suggest_float('colsample_bytree', .1, 1),\n",
        "        'min_child_weight' : trial.suggest_float('min_child_weight', .1, 20, log = True),\n",
        "        'reg_lambda' : trial.suggest_float('reg_lambda', .01, 20, log = True),\n",
        "        'reg_alpha' : trial.suggest_float('reg_alpha', .01, 10, log = True),\n",
        "        'n_estimators' : 750,\n",
        "        'random_state' : seed,\n",
        "        'tree_method' : 'hist',\n",
        "    }\n",
        "\n",
        "    optuna_model = make_pipeline(\n",
        "        MEstimateEncoder(cols = categorical_features),\n",
        "        FeatureSelector(cols = ['payer_type', 'patient_state', 'patient_age', 'patient_gender', 'breast_cancer_diagnosis_code', 'breast_cancer_diagnosis_desc', 'metastatic_cancer_diagnosis_code']),\n",
        "        XGBClassifier(**params)\n",
        "    )\n",
        "\n",
        "    optuna_score, _, _ = cross_val_score(optuna_model)\n",
        "\n",
        "    return np.mean(optuna_score)\n",
        "\n",
        "xgb_study = optuna.create_study(direction = 'maximize')"
      ],
      "metadata": {
        "execution": {
          "iopub.execute_input": "2024-02-29T01:05:37.173832Z",
          "iopub.status.busy": "2024-02-29T01:05:37.173431Z",
          "iopub.status.idle": "2024-02-29T01:05:37.185233Z",
          "shell.execute_reply": "2024-02-29T01:05:37.183855Z"
        },
        "papermill": {
          "duration": 0.053351,
          "end_time": "2024-02-29T01:05:37.187618",
          "exception": false,
          "start_time": "2024-02-29T01:05:37.134267",
          "status": "completed"
        },
        "tags": [],
        "id": "gE-we0G9Im7L"
      },
      "execution_count": null,
      "outputs": []
    },
    {
      "cell_type": "code",
      "source": [
        "#xgb_study.optimize(xgb_objective, 200)"
      ],
      "metadata": {
        "execution": {
          "iopub.execute_input": "2024-02-29T01:05:37.264907Z",
          "iopub.status.busy": "2024-02-29T01:05:37.26449Z",
          "iopub.status.idle": "2024-02-29T01:05:37.269271Z",
          "shell.execute_reply": "2024-02-29T01:05:37.267997Z"
        },
        "papermill": {
          "duration": 0.046374,
          "end_time": "2024-02-29T01:05:37.271765",
          "exception": false,
          "start_time": "2024-02-29T01:05:37.225391",
          "status": "completed"
        },
        "tags": [],
        "id": "AJDFwstLIm7L"
      },
      "execution_count": null,
      "outputs": []
    },
    {
      "cell_type": "code",
      "source": [
        "xgb_params = {'eta': 0.014290460861843577, 'max_depth': 10, 'subsample': 0.891507291340268, 'colsample_bytree': 0.3779121278340872, 'min_child_weight': 0.15457089929898238, 'reg_lambda': 15.22147437968379, 'reg_alpha': 0.9406055353007685}\n",
        "\n",
        "XGB = make_pipeline(\n",
        "    MEstimateEncoder(cols = categorical_features),\n",
        "    FeatureSelector(cols = ['payer_type', 'patient_state', 'patient_age', 'patient_gender', 'breast_cancer_diagnosis_code', 'breast_cancer_diagnosis_desc', 'metastatic_cancer_diagnosis_code']),\n",
        "    XGBClassifier(**xgb_params, random_state = seed, n_estimators = 750, tree_method = 'hist')\n",
        ")\n",
        "\n",
        "_, oof_list['XGB'], predict_list['XGB'] = cross_val_score(XGB, show_importance = False)"
      ],
      "metadata": {
        "execution": {
          "iopub.execute_input": "2024-02-29T01:05:37.349621Z",
          "iopub.status.busy": "2024-02-29T01:05:37.349214Z",
          "iopub.status.idle": "2024-02-29T01:05:50.898477Z",
          "shell.execute_reply": "2024-02-29T01:05:50.897303Z"
        },
        "papermill": {
          "duration": 13.591733,
          "end_time": "2024-02-29T01:05:50.901142",
          "exception": false,
          "start_time": "2024-02-29T01:05:37.309409",
          "status": "completed"
        },
        "tags": [],
        "id": "o-EB-zTtIm7L"
      },
      "execution_count": null,
      "outputs": []
    },
    {
      "cell_type": "markdown",
      "source": [
        "# XGBoost Random Forest"
      ],
      "metadata": {
        "papermill": {
          "duration": 0.037579,
          "end_time": "2024-02-29T01:05:50.977363",
          "exception": false,
          "start_time": "2024-02-29T01:05:50.939784",
          "status": "completed"
        },
        "tags": [],
        "id": "vheuRxIEIm7L"
      }
    },
    {
      "cell_type": "code",
      "source": [
        "XGBRF = make_pipeline(\n",
        "    MEstimateEncoder(cols = categorical_features),\n",
        "    FeatureSelector(cols = ['patient_age', 'breast_cancer_diagnosis_code', 'metastatic_cancer_diagnosis_code', 'Region', 'education_highschool', 'race_other']),\n",
        "    XGBRFClassifier(random_state = seed, n_estimators = 100)\n",
        ")\n",
        "\n",
        "#_, oof_list['XGBRF'], predict_list['XGBRF'] = cross_val_score(XGBRF, show_importance = False)"
      ],
      "metadata": {
        "execution": {
          "iopub.execute_input": "2024-02-29T01:05:51.055934Z",
          "iopub.status.busy": "2024-02-29T01:05:51.05549Z",
          "iopub.status.idle": "2024-02-29T01:05:51.061808Z",
          "shell.execute_reply": "2024-02-29T01:05:51.060422Z"
        },
        "papermill": {
          "duration": 0.048344,
          "end_time": "2024-02-29T01:05:51.06406",
          "exception": false,
          "start_time": "2024-02-29T01:05:51.015716",
          "status": "completed"
        },
        "tags": [],
        "id": "NAG9wPffIm7L"
      },
      "execution_count": null,
      "outputs": []
    },
    {
      "cell_type": "markdown",
      "source": [
        "# LightGBM"
      ],
      "metadata": {
        "papermill": {
          "duration": 0.037363,
          "end_time": "2024-02-29T01:05:51.139365",
          "exception": false,
          "start_time": "2024-02-29T01:05:51.102002",
          "status": "completed"
        },
        "tags": [],
        "id": "6wAfRPFrIm7L"
      }
    },
    {
      "cell_type": "code",
      "source": [
        "def lgb_objective(trial):\n",
        "    params = {\n",
        "        'learning_rate' : trial.suggest_float('learning_rate', .001, .1, log = True),\n",
        "        'max_depth' : trial.suggest_int('max_depth', 2, 20),\n",
        "        'subsample' : trial.suggest_float('subsample', .5, 1),\n",
        "        'min_child_weight' : trial.suggest_float('min_child_weight', .1, 15, log = True),\n",
        "        'reg_lambda' : trial.suggest_float('reg_lambda', .1, 20, log = True),\n",
        "        'reg_alpha' : trial.suggest_float('reg_alpha', .1, 10, log = True),\n",
        "        'n_estimators' : 600,\n",
        "        'random_state' : seed,\n",
        "        'boosting_type' : 'dart'\n",
        "    }\n",
        "\n",
        "    optuna_model = make_pipeline(\n",
        "        MEstimateEncoder(cols = categorical_features),\n",
        "        FeatureSelector(cols = ['patient_age', 'patient_gender', 'breast_cancer_diagnosis_code', 'breast_cancer_diagnosis_desc', 'metastatic_cancer_diagnosis_code', 'metastatic_first_novel_treatment', 'metastatic_first_novel_treatment_type', 'Region', 'age_20s', 'disabled']),\n",
        "        LGBMClassifier(**params)\n",
        "    )\n",
        "\n",
        "    optuna_score, _, _ = cross_val_score(optuna_model)\n",
        "\n",
        "    return np.mean(optuna_score)\n",
        "\n",
        "lgb_study = optuna.create_study(direction = 'maximize')"
      ],
      "metadata": {
        "execution": {
          "iopub.execute_input": "2024-02-29T01:05:51.217385Z",
          "iopub.status.busy": "2024-02-29T01:05:51.216947Z",
          "iopub.status.idle": "2024-02-29T01:05:51.22806Z",
          "shell.execute_reply": "2024-02-29T01:05:51.226896Z"
        },
        "papermill": {
          "duration": 0.052503,
          "end_time": "2024-02-29T01:05:51.230314",
          "exception": false,
          "start_time": "2024-02-29T01:05:51.177811",
          "status": "completed"
        },
        "tags": [],
        "id": "IE01zhxGIm7L"
      },
      "execution_count": null,
      "outputs": []
    },
    {
      "cell_type": "code",
      "source": [
        "#lgb_study.optimize(lgb_objective, 200)"
      ],
      "metadata": {
        "execution": {
          "iopub.execute_input": "2024-02-29T01:05:51.308126Z",
          "iopub.status.busy": "2024-02-29T01:05:51.307678Z",
          "iopub.status.idle": "2024-02-29T01:05:51.312339Z",
          "shell.execute_reply": "2024-02-29T01:05:51.311228Z"
        },
        "papermill": {
          "duration": 0.046313,
          "end_time": "2024-02-29T01:05:51.314617",
          "exception": false,
          "start_time": "2024-02-29T01:05:51.268304",
          "status": "completed"
        },
        "tags": [],
        "id": "1M49wJuyIm7L"
      },
      "execution_count": null,
      "outputs": []
    },
    {
      "cell_type": "code",
      "source": [
        "lgb_params = {'learning_rate': 0.005807018851897142, 'max_depth': 18, 'subsample': 0.7421423838804505, 'min_child_weight': 0.6370978748964402, 'reg_lambda': 2.554455122943933, 'reg_alpha': 0.37469472538903054}\n",
        "\n",
        "LGB = make_pipeline(\n",
        "    MEstimateEncoder(cols = categorical_features),\n",
        "    FeatureSelector(cols = ['patient_age', 'breast_cancer_diagnosis_code', 'metastatic_cancer_diagnosis_code', 'metastatic_first_novel_treatment_type', 'Region', 'unemployment_rate', 'disabled']),\n",
        "    LGBMClassifier(**lgb_params, random_state = seed, n_estimators = 600)\n",
        ")\n",
        "\n",
        "_, oof_list['LGB'], predict_list['LGB'] = cross_val_score(LGB, show_importance = False)"
      ],
      "metadata": {
        "execution": {
          "iopub.execute_input": "2024-02-29T01:05:51.392772Z",
          "iopub.status.busy": "2024-02-29T01:05:51.392345Z",
          "iopub.status.idle": "2024-02-29T01:06:13.20552Z",
          "shell.execute_reply": "2024-02-29T01:06:13.204004Z"
        },
        "papermill": {
          "duration": 21.855351,
          "end_time": "2024-02-29T01:06:13.208113",
          "exception": false,
          "start_time": "2024-02-29T01:05:51.352762",
          "status": "completed"
        },
        "tags": [],
        "id": "4hX3BgBUIm7M"
      },
      "execution_count": null,
      "outputs": []
    },
    {
      "cell_type": "markdown",
      "source": [
        "# LightGBM DART"
      ],
      "metadata": {
        "papermill": {
          "duration": 0.03775,
          "end_time": "2024-02-29T01:06:13.285999",
          "exception": false,
          "start_time": "2024-02-29T01:06:13.248249",
          "status": "completed"
        },
        "tags": [],
        "id": "zU_oH6-ZIm7M"
      }
    },
    {
      "cell_type": "code",
      "source": [
        "dart_params = {'learning_rate': 0.03689647027034999, 'max_depth': 8, 'subsample': 0.7558778300751996, 'min_child_weight': 0.930494385854166, 'reg_lambda': 1.7436925731064161, 'reg_alpha': 0.30133492167125675}\n",
        "\n",
        "DART = make_pipeline(\n",
        "    MEstimateEncoder(cols = categorical_features),\n",
        "    FeatureSelector(cols = ['patient_age', 'patient_gender', 'breast_cancer_diagnosis_code', 'breast_cancer_diagnosis_desc', 'metastatic_cancer_diagnosis_code', 'metastatic_first_novel_treatment', 'metastatic_first_novel_treatment_type', 'Region', 'age_20s', 'disabled']),\n",
        "    LGBMClassifier(**dart_params, random_state = seed, n_estimators = 600, boosting_type = 'dart')\n",
        ")\n",
        "\n",
        "#_, oof_list['DART'], predict_list['DART'] = cross_val_score(DART, show_importance = False)"
      ],
      "metadata": {
        "execution": {
          "iopub.execute_input": "2024-02-29T01:06:13.374305Z",
          "iopub.status.busy": "2024-02-29T01:06:13.373769Z",
          "iopub.status.idle": "2024-02-29T01:06:13.382866Z",
          "shell.execute_reply": "2024-02-29T01:06:13.381824Z"
        },
        "papermill": {
          "duration": 0.061401,
          "end_time": "2024-02-29T01:06:13.385138",
          "exception": false,
          "start_time": "2024-02-29T01:06:13.323737",
          "status": "completed"
        },
        "tags": [],
        "id": "bt9_enF8Im7M"
      },
      "execution_count": null,
      "outputs": []
    },
    {
      "cell_type": "markdown",
      "source": [
        "# CatBoost"
      ],
      "metadata": {
        "papermill": {
          "duration": 0.046877,
          "end_time": "2024-02-29T01:06:13.486854",
          "exception": false,
          "start_time": "2024-02-29T01:06:13.439977",
          "status": "completed"
        },
        "tags": [],
        "id": "D_w1ufdWIm7M"
      }
    },
    {
      "cell_type": "code",
      "source": [
        "def cb_objective(trial):\n",
        "    params = {\n",
        "        'learning_rate' : trial.suggest_float('learning_rate', .001, .1, log = True),\n",
        "        'max_depth' : trial.suggest_int('max_depth', 2, 12),\n",
        "        'subsample' : trial.suggest_float('subsample', 0.01, 1, log = True),\n",
        "        'colsample_bylevel' : trial.suggest_float('colsample_bylevel', .1, 1),\n",
        "        'min_child_samples' : trial.suggest_int('min_child_samples', 1, 15),\n",
        "        'reg_lambda' : trial.suggest_float('reg_lambda', 0.01, 1, log = True),\n",
        "        'n_estimators' : 1000,\n",
        "        'bootstrap_type' : 'Bernoulli',\n",
        "        'random_state' : seed,\n",
        "        'verbose' : 0,\n",
        "        'has_time' : True\n",
        "    }\n",
        "\n",
        "    cb_features = ['patient_race', 'payer_type', 'patient_state', 'patient_age', 'breast_cancer_diagnosis_code', 'metastatic_cancer_diagnosis_code', 'age_under_10', 'unemployment_rate', 'self_employed']\n",
        "    cb_cat = ['patient_race', 'payer_type', 'patient_state', 'breast_cancer_diagnosis_code', 'metastatic_cancer_diagnosis_code']\n",
        "\n",
        "    optuna_model = make_pipeline(\n",
        "        CatImputer,\n",
        "        FeatureSelector(cb_features),\n",
        "        CatBoostClassifier(**params, cat_features = cb_cat)\n",
        "    )\n",
        "\n",
        "    optuna_score, _, _ = cross_val_score(optuna_model)\n",
        "\n",
        "    return np.mean(optuna_score)\n",
        "\n",
        "cb_study = optuna.create_study(direction = 'maximize')"
      ],
      "metadata": {
        "execution": {
          "iopub.execute_input": "2024-02-29T01:06:13.57134Z",
          "iopub.status.busy": "2024-02-29T01:06:13.570951Z",
          "iopub.status.idle": "2024-02-29T01:06:13.582328Z",
          "shell.execute_reply": "2024-02-29T01:06:13.581261Z"
        },
        "papermill": {
          "duration": 0.056463,
          "end_time": "2024-02-29T01:06:13.584815",
          "exception": false,
          "start_time": "2024-02-29T01:06:13.528352",
          "status": "completed"
        },
        "tags": [],
        "id": "PTaeHYMlIm7M"
      },
      "execution_count": null,
      "outputs": []
    },
    {
      "cell_type": "code",
      "source": [
        "#cb_study.optimize(cb_objective, 200)"
      ],
      "metadata": {
        "execution": {
          "iopub.execute_input": "2024-02-29T01:06:13.664568Z",
          "iopub.status.busy": "2024-02-29T01:06:13.663717Z",
          "iopub.status.idle": "2024-02-29T01:06:13.668607Z",
          "shell.execute_reply": "2024-02-29T01:06:13.667776Z"
        },
        "papermill": {
          "duration": 0.047663,
          "end_time": "2024-02-29T01:06:13.671453",
          "exception": false,
          "start_time": "2024-02-29T01:06:13.62379",
          "status": "completed"
        },
        "tags": [],
        "id": "KaAhArP-Im7M"
      },
      "execution_count": null,
      "outputs": []
    },
    {
      "cell_type": "code",
      "source": [
        "cb_features = ['payer_type', 'patient_zip3', 'patient_age', 'breast_cancer_diagnosis_code', 'metastatic_cancer_diagnosis_code', 'family_size', 'self_employed']\n",
        "cb_cat = ['payer_type', 'patient_zip3', 'breast_cancer_diagnosis_code', 'metastatic_cancer_diagnosis_code']\n",
        "\n",
        "cb_params = {'learning_rate': 0.015116075947127675, 'max_depth': 5, 'colsample_bylevel': 0.5236776088105062, 'min_child_samples': 15, 'reg_lambda': 0.8666134907089579}\n",
        "\n",
        "CB = make_pipeline(\n",
        "    CatImputer,\n",
        "    FeatureSelector(cols = cb_features),\n",
        "    CatBoostClassifier(random_state = seed, verbose = 0, cat_features = cb_cat)\n",
        ")\n",
        "\n",
        "_, oof_list['CB'], predict_list['CB'] = cross_val_score(CB)"
      ],
      "metadata": {
        "execution": {
          "iopub.execute_input": "2024-02-29T01:06:13.755436Z",
          "iopub.status.busy": "2024-02-29T01:06:13.754442Z",
          "iopub.status.idle": "2024-02-29T01:07:31.407825Z",
          "shell.execute_reply": "2024-02-29T01:07:31.406617Z"
        },
        "papermill": {
          "duration": 77.73565,
          "end_time": "2024-02-29T01:07:31.449676",
          "exception": false,
          "start_time": "2024-02-29T01:06:13.714026",
          "status": "completed"
        },
        "tags": [],
        "id": "_HH5vuoCIm7M"
      },
      "execution_count": null,
      "outputs": []
    },
    {
      "cell_type": "code",
      "source": [
        "cb_time_features = ['payer_type', 'patient_age', 'breast_cancer_diagnosis_code', 'metastatic_cancer_diagnosis_code', 'income_household_35_to_50']\n",
        "cb_time_cat = ['payer_type', 'breast_cancer_diagnosis_code', 'metastatic_cancer_diagnosis_code']\n",
        "\n",
        "cb_time_params = {'learning_rate': 0.02460510521563778, 'max_depth': 4, 'colsample_bylevel': 0.5614033622786926, 'min_child_samples': 9, 'reg_lambda': 0.04325296956640457}\n",
        "\n",
        "CB_Time = make_pipeline(\n",
        "    CatImputer,\n",
        "    FeatureSelector(cols = cb_time_features),\n",
        "    CatBoostClassifier(random_state = seed, verbose = 0, cat_features = cb_time_cat, has_time = True)\n",
        ")\n",
        "\n",
        "_, oof_list['CB_Time'], predict_list['CB_Time'] = cross_val_score(CB_Time)"
      ],
      "metadata": {
        "execution": {
          "iopub.execute_input": "2024-02-29T01:07:31.528407Z",
          "iopub.status.busy": "2024-02-29T01:07:31.527706Z",
          "iopub.status.idle": "2024-02-29T01:08:13.934317Z",
          "shell.execute_reply": "2024-02-29T01:08:13.933132Z"
        },
        "papermill": {
          "duration": 42.487063,
          "end_time": "2024-02-29T01:08:13.975145",
          "exception": false,
          "start_time": "2024-02-29T01:07:31.488082",
          "status": "completed"
        },
        "tags": [],
        "id": "gtSbzMPNIm7N"
      },
      "execution_count": null,
      "outputs": []
    },
    {
      "cell_type": "markdown",
      "source": [
        "# CatBoost (Bayesian)"
      ],
      "metadata": {
        "papermill": {
          "duration": 0.038676,
          "end_time": "2024-02-29T01:08:14.052533",
          "exception": false,
          "start_time": "2024-02-29T01:08:14.013857",
          "status": "completed"
        },
        "tags": [],
        "id": "_xC63mZqIm7N"
      }
    },
    {
      "cell_type": "code",
      "source": [
        "cb_bayes_features = ['payer_type', 'patient_state', 'patient_age', 'breast_cancer_diagnosis_code', 'metastatic_cancer_diagnosis_code', 'self_employed', 'health_uninsured']\n",
        "cb_bayes_cat = ['payer_type', 'patient_state', 'breast_cancer_diagnosis_code', 'metastatic_cancer_diagnosis_code']\n",
        "\n",
        "cb_bayes_params = {'learning_rate': 0.02023191659311952, 'max_depth': 5, 'bagging_temperature': 0.014373761190553567, 'colsample_bylevel': 0.5372235775413032, 'min_child_samples': 11, 'reg_lambda': 0.7584977523122014}\n",
        "\n",
        "CB_Bayes = make_pipeline(\n",
        "    CatImputer,\n",
        "    FeatureSelector(cols = cb_bayes_features),\n",
        "    CatBoostClassifier(random_state = seed, verbose = 0, bootstrap_type = 'Bayesian', cat_features = cb_bayes_cat)\n",
        ")\n",
        "\n",
        "_, oof_list['CB_Bayes'], predict_list['CB_Bayes'] = cross_val_score(CB_Bayes)"
      ],
      "metadata": {
        "execution": {
          "iopub.execute_input": "2024-02-29T01:08:14.149971Z",
          "iopub.status.busy": "2024-02-29T01:08:14.149525Z",
          "iopub.status.idle": "2024-02-29T01:09:29.815463Z",
          "shell.execute_reply": "2024-02-29T01:09:29.814117Z"
        },
        "papermill": {
          "duration": 75.756209,
          "end_time": "2024-02-29T01:09:29.857523",
          "exception": false,
          "start_time": "2024-02-29T01:08:14.101314",
          "status": "completed"
        },
        "tags": [],
        "id": "YJIRQso1Im7N"
      },
      "execution_count": null,
      "outputs": []
    },
    {
      "cell_type": "code",
      "source": [
        "cb_bayes_time_features = ['payer_type', 'patient_age', 'breast_cancer_diagnosis_code', 'metastatic_cancer_diagnosis_code', 'income_household_50_to_75', 'health_uninsured']\n",
        "cb_bayes_time_cat = ['payer_type', 'breast_cancer_diagnosis_code', 'metastatic_cancer_diagnosis_code']\n",
        "\n",
        "CB_Bayes_Time = make_pipeline(\n",
        "    CatImputer,\n",
        "    FeatureSelector(cols = cb_bayes_time_features),\n",
        "    CatBoostClassifier(random_state = seed, verbose = 0, bootstrap_type = 'Bayesian', cat_features = cb_bayes_time_cat, has_time = True)\n",
        ")\n",
        "\n",
        "_, oof_list['CB_Bayes_Time'], predict_list['CB_Bayes_Time'] = cross_val_score(CB_Bayes_Time)"
      ],
      "metadata": {
        "execution": {
          "iopub.execute_input": "2024-02-29T01:09:29.938784Z",
          "iopub.status.busy": "2024-02-29T01:09:29.938361Z",
          "iopub.status.idle": "2024-02-29T01:10:12.911154Z",
          "shell.execute_reply": "2024-02-29T01:10:12.909768Z"
        },
        "papermill": {
          "duration": 43.056581,
          "end_time": "2024-02-29T01:10:12.953565",
          "exception": false,
          "start_time": "2024-02-29T01:09:29.896984",
          "status": "completed"
        },
        "tags": [],
        "id": "P0LbYSDCIm7N"
      },
      "execution_count": null,
      "outputs": []
    },
    {
      "cell_type": "markdown",
      "source": [
        "# CatBoost (Bernoulli)"
      ],
      "metadata": {
        "papermill": {
          "duration": 0.03851,
          "end_time": "2024-02-29T01:10:13.031191",
          "exception": false,
          "start_time": "2024-02-29T01:10:12.992681",
          "status": "completed"
        },
        "tags": [],
        "id": "ybZGQLpCIm7N"
      }
    },
    {
      "cell_type": "code",
      "source": [
        "cb_bernoulli_features = ['payer_type', 'patient_age', 'breast_cancer_diagnosis_code', 'metastatic_cancer_diagnosis_code', 'health_uninsured']\n",
        "cb_bernoulli_cat = ['payer_type', 'breast_cancer_diagnosis_code', 'metastatic_cancer_diagnosis_code']\n",
        "\n",
        "cb_bernoulli_params = {'learning_rate': 0.017997837369237192, 'max_depth': 5, 'subsample': 0.7652481186657251, 'colsample_bylevel': 0.5001460413426887, 'min_child_samples': 8, 'reg_lambda': 0.8862964454272922}\n",
        "\n",
        "CB_Bernoulli = make_pipeline(\n",
        "    CatImputer,\n",
        "    FeatureSelector(cols = cb_bernoulli_features),\n",
        "    CatBoostClassifier(random_state = seed, verbose = 0, bootstrap_type = 'Bernoulli', cat_features = cb_bernoulli_cat)\n",
        ")\n",
        "\n",
        "_, oof_list['CB_Bernoulli'], predict_list['CB_Bernoulli'] = cross_val_score(CB_Bernoulli)"
      ],
      "metadata": {
        "execution": {
          "iopub.execute_input": "2024-02-29T01:10:13.110334Z",
          "iopub.status.busy": "2024-02-29T01:10:13.109917Z",
          "iopub.status.idle": "2024-02-29T01:11:15.488641Z",
          "shell.execute_reply": "2024-02-29T01:11:15.487442Z"
        },
        "papermill": {
          "duration": 62.459972,
          "end_time": "2024-02-29T01:11:15.53",
          "exception": false,
          "start_time": "2024-02-29T01:10:13.070028",
          "status": "completed"
        },
        "tags": [],
        "id": "B0gKkNvbIm7N"
      },
      "execution_count": null,
      "outputs": []
    },
    {
      "cell_type": "code",
      "source": [
        "cb_bernoulli_time_features = ['patient_race', 'payer_type', 'patient_state', 'patient_age', 'breast_cancer_diagnosis_code', 'metastatic_cancer_diagnosis_code', 'age_under_10', 'unemployment_rate', 'self_employed']\n",
        "cb_bernoulli_time_cat = ['patient_race', 'payer_type', 'patient_state', 'breast_cancer_diagnosis_code', 'metastatic_cancer_diagnosis_code']\n",
        "\n",
        "cb_bernoulli_time_params = {'learning_rate': 0.01799872581282759, 'max_depth': 5, 'subsample': 0.8869608354825106, 'colsample_bylevel': 0.8751857544649823, 'min_child_samples': 1, 'reg_lambda': 0.4461074278850297}\n",
        "\n",
        "CB_Bernoulli_Time = make_pipeline(\n",
        "    CatImputer,\n",
        "    FeatureSelector(cols = cb_bernoulli_time_features),\n",
        "    CatBoostClassifier(**cb_bernoulli_time_params, random_state = seed, verbose = 0, bootstrap_type = 'Bernoulli', cat_features = cb_bernoulli_time_cat, has_time = True)\n",
        ")\n",
        "\n",
        "_, oof_list['CB_Bernoulli_Time'], predict_list['CB_Bernoulli_Time'] = cross_val_score(CB_Bernoulli_Time)"
      ],
      "metadata": {
        "execution": {
          "iopub.execute_input": "2024-02-29T01:11:15.609257Z",
          "iopub.status.busy": "2024-02-29T01:11:15.608825Z",
          "iopub.status.idle": "2024-02-29T01:12:00.057868Z",
          "shell.execute_reply": "2024-02-29T01:12:00.056735Z"
        },
        "papermill": {
          "duration": 44.529995,
          "end_time": "2024-02-29T01:12:00.098493",
          "exception": false,
          "start_time": "2024-02-29T01:11:15.568498",
          "status": "completed"
        },
        "tags": [],
        "id": "V3MPyZixIm7N"
      },
      "execution_count": null,
      "outputs": []
    },
    {
      "cell_type": "markdown",
      "source": [
        "# Ensemble"
      ],
      "metadata": {
        "papermill": {
          "duration": 0.038533,
          "end_time": "2024-02-29T01:12:00.175544",
          "exception": false,
          "start_time": "2024-02-29T01:12:00.137011",
          "status": "completed"
        },
        "tags": [],
        "id": "Wh6h5rmEIm7N"
      }
    },
    {
      "cell_type": "code",
      "source": [
        "def multiplier_objective(trial):\n",
        "\n",
        "    multipliers = np.array([trial.suggest_float(f'{label}', -1, 1) for label in list(oof_list)])\n",
        "\n",
        "    return roc_auc_score(train.DiagPeriodL90D, oof_list.to_numpy() @ (multipliers / multipliers.sum()))\n",
        "\n",
        "multiplier_study = optuna.create_study(direction = 'maximize')"
      ],
      "metadata": {
        "execution": {
          "iopub.execute_input": "2024-02-29T01:12:00.255109Z",
          "iopub.status.busy": "2024-02-29T01:12:00.254671Z",
          "iopub.status.idle": "2024-02-29T01:12:00.262689Z",
          "shell.execute_reply": "2024-02-29T01:12:00.261625Z"
        },
        "papermill": {
          "duration": 0.051267,
          "end_time": "2024-02-29T01:12:00.265294",
          "exception": false,
          "start_time": "2024-02-29T01:12:00.214027",
          "status": "completed"
        },
        "tags": [],
        "id": "Dli3eBB5Im7N"
      },
      "execution_count": null,
      "outputs": []
    },
    {
      "cell_type": "code",
      "source": [
        "#multiplier_study.optimize(multiplier_objective, 25000)"
      ],
      "metadata": {
        "execution": {
          "iopub.execute_input": "2024-02-29T01:12:00.344194Z",
          "iopub.status.busy": "2024-02-29T01:12:00.343773Z",
          "iopub.status.idle": "2024-02-29T01:12:00.348429Z",
          "shell.execute_reply": "2024-02-29T01:12:00.347349Z"
        },
        "papermill": {
          "duration": 0.04697,
          "end_time": "2024-02-29T01:12:00.350692",
          "exception": false,
          "start_time": "2024-02-29T01:12:00.303722",
          "status": "completed"
        },
        "tags": [],
        "id": "bqz_GjR-Im7O"
      },
      "execution_count": null,
      "outputs": []
    },
    {
      "cell_type": "code",
      "source": [
        "#selected_model = [col] + ['CB_Bernoulli_Time', 'CB_Bernoulli', 'Log', 'TF', 'ET', 'SVM', 'CB', 'RF', 'LGB', 'KNN', 'CB_Time', 'CB_Bayes_Time', 'CB_Bayes', 'GNB', 'BNB', 'LDA', 'XGB', 'GB']\n",
        "#weights = RidgeClassifier(random_state = seed).fit(oof_list, train.DiagPeriodL90D).coef_[0]\n",
        "#weights = np.array(list(multiplier_study.best_params.values()))\n",
        "weights = np.array(list({'SVM': 0.5371288937104951, 'Log': -0.9998838102461505, 'Ridge': 0.9033487720861355, 'LDA': -0.5526242685240101, 'KNN': -0.30108472639200856, 'RF': 0.13224519493772863, 'ET': -0.46569815350021637, 'GB': 0.3996602359300103, 'HGB': -0.3247882797025673, 'XGB': 0.3561482377729332, 'LGB': -0.41235352612324705, 'CB': -0.4094488354882769, 'CB_Time': -0.3300533530466142, 'CB_Bayes': 0.1974948592239418, 'CB_Bayes_Time': 0.3424885322288681, 'CB_Bernoulli': -0.8637868599495759, 'CB_Bernoulli_Time': -0.8766136385461583}.values()))\n",
        "weights /= weights.sum()\n",
        "pd.DataFrame(weights, index = list(oof_list), columns = ['weight per model'])"
      ],
      "metadata": {
        "execution": {
          "iopub.execute_input": "2024-02-29T01:12:00.430996Z",
          "iopub.status.busy": "2024-02-29T01:12:00.430566Z",
          "iopub.status.idle": "2024-02-29T01:12:00.4489Z",
          "shell.execute_reply": "2024-02-29T01:12:00.447973Z"
        },
        "papermill": {
          "duration": 0.061027,
          "end_time": "2024-02-29T01:12:00.451145",
          "exception": false,
          "start_time": "2024-02-29T01:12:00.390118",
          "status": "completed"
        },
        "tags": [],
        "id": "jrsC1JtRIm7O"
      },
      "execution_count": null,
      "outputs": []
    },
    {
      "cell_type": "code",
      "source": [
        "print(f'Score: {roc_auc_score(train.DiagPeriodL90D, oof_list.to_numpy() @ weights)}')\n",
        "predictions = predict_list.to_numpy() @ weights"
      ],
      "metadata": {
        "execution": {
          "iopub.execute_input": "2024-02-29T01:12:00.532647Z",
          "iopub.status.busy": "2024-02-29T01:12:00.53224Z",
          "iopub.status.idle": "2024-02-29T01:12:00.552982Z",
          "shell.execute_reply": "2024-02-29T01:12:00.5516Z"
        },
        "papermill": {
          "duration": 0.064595,
          "end_time": "2024-02-29T01:12:00.556065",
          "exception": false,
          "start_time": "2024-02-29T01:12:00.49147",
          "status": "completed"
        },
        "tags": [],
        "id": "dQXcxLtWIm7O"
      },
      "execution_count": null,
      "outputs": []
    },
    {
      "cell_type": "markdown",
      "source": [
        "# Submission"
      ],
      "metadata": {
        "papermill": {
          "duration": 0.046908,
          "end_time": "2024-02-29T01:12:00.888911",
          "exception": false,
          "start_time": "2024-02-29T01:12:00.842003",
          "status": "completed"
        },
        "tags": [],
        "id": "6Ql6ztKuIm7O"
      }
    },
    {
      "cell_type": "code",
      "source": [
        "submission = test.copy()\n",
        "submission['DiagPeriodL90D'] = predictions\n",
        "\n",
        "submission.DiagPeriodL90D.to_csv('submission.csv')"
      ],
      "metadata": {
        "execution": {
          "iopub.execute_input": "2024-02-29T01:12:00.970291Z",
          "iopub.status.busy": "2024-02-29T01:12:00.969835Z",
          "iopub.status.idle": "2024-02-29T01:12:01.007196Z",
          "shell.execute_reply": "2024-02-29T01:12:01.005942Z"
        },
        "papermill": {
          "duration": 0.081792,
          "end_time": "2024-02-29T01:12:01.01021",
          "exception": false,
          "start_time": "2024-02-29T01:12:00.928418",
          "status": "completed"
        },
        "tags": [],
        "id": "EtkLqTNRIm7O"
      },
      "execution_count": null,
      "outputs": []
    },
    {
      "cell_type": "code",
      "source": [
        "plt.figure(figsize = (15, 10), dpi = 300)\n",
        "sns.kdeplot(predictions, fill = True)\n",
        "plt.title(\"Distribution of DiagPeriodL90D Probability\", weight = 'bold', size = 25)\n",
        "plt.show()"
      ],
      "metadata": {
        "_kg_hide-input": true,
        "execution": {
          "iopub.execute_input": "2024-02-29T01:12:01.093857Z",
          "iopub.status.busy": "2024-02-29T01:12:01.093449Z",
          "iopub.status.idle": "2024-02-29T01:12:02.485763Z",
          "shell.execute_reply": "2024-02-29T01:12:02.48458Z"
        },
        "papermill": {
          "duration": 1.438171,
          "end_time": "2024-02-29T01:12:02.490566",
          "exception": false,
          "start_time": "2024-02-29T01:12:01.052395",
          "status": "completed"
        },
        "tags": [],
        "id": "lHYNdG6GIm7O"
      },
      "execution_count": null,
      "outputs": []
    },
    {
      "cell_type": "markdown",
      "source": [
        "Thanks for reading!"
      ],
      "metadata": {
        "papermill": {
          "duration": 0.042934,
          "end_time": "2024-02-29T01:12:02.576668",
          "exception": false,
          "start_time": "2024-02-29T01:12:02.533734",
          "status": "completed"
        },
        "tags": [],
        "id": "9cdj2uqeIm7O"
      }
    }
  ]
}