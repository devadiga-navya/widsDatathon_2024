{
  "metadata": {
    "kernelspec": {
      "name": "python3",
      "display_name": "Python 3",
      "language": "python"
    },
    "language_info": {
      "name": "python",
      "version": "3.10.13",
      "mimetype": "text/x-python",
      "codemirror_mode": {
        "name": "ipython",
        "version": 3
      },
      "pygments_lexer": "ipython3",
      "nbconvert_exporter": "python",
      "file_extension": ".py"
    },
    "kaggle": {
      "accelerator": "none",
      "dataSources": [
        {
          "sourceId": 65862,
          "databundleVersionId": 7469115,
          "sourceType": "competition"
        }
      ],
      "dockerImageVersionId": 30646,
      "isInternetEnabled": true,
      "language": "python",
      "sourceType": "notebook",
      "isGpuEnabled": false
    },
    "colab": {
      "name": "private_leaderboard 0.802 - catboost_joker",
      "provenance": [],
      "include_colab_link": true
    }
  },
  "nbformat_minor": 0,
  "nbformat": 4,
  "cells": [
    {
      "cell_type": "markdown",
      "metadata": {
        "id": "view-in-github",
        "colab_type": "text"
      },
      "source": [
        "<a href=\"https://colab.research.google.com/github/devadiga-navya/widsDatathon_2024/blob/main/private_leaderboard_0_802_catboost_joker.ipynb\" target=\"_parent\"><img src=\"https://colab.research.google.com/assets/colab-badge.svg\" alt=\"Open In Colab\"/></a>"
      ]
    },
    {
      "source": [
        "\n",
        "# IMPORTANT: RUN THIS CELL IN ORDER TO IMPORT YOUR KAGGLE DATA SOURCES\n",
        "# TO THE CORRECT LOCATION (/kaggle/input) IN YOUR NOTEBOOK,\n",
        "# THEN FEEL FREE TO DELETE THIS CELL.\n",
        "# NOTE: THIS NOTEBOOK ENVIRONMENT DIFFERS FROM KAGGLE'S PYTHON\n",
        "# ENVIRONMENT SO THERE MAY BE MISSING LIBRARIES USED BY YOUR\n",
        "# NOTEBOOK.\n",
        "\n",
        "import os\n",
        "import sys\n",
        "from tempfile import NamedTemporaryFile\n",
        "from urllib.request import urlopen\n",
        "from urllib.parse import unquote, urlparse\n",
        "from urllib.error import HTTPError\n",
        "from zipfile import ZipFile\n",
        "import tarfile\n",
        "import shutil\n",
        "\n",
        "CHUNK_SIZE = 40960\n",
        "DATA_SOURCE_MAPPING = 'widsdatathon2024-challenge1:https%3A%2F%2Fstorage.googleapis.com%2Fkaggle-competitions-data%2Fkaggle-v2%2F65862%2F7469115%2Fbundle%2Farchive.zip%3FX-Goog-Algorithm%3DGOOG4-RSA-SHA256%26X-Goog-Credential%3Dgcp-kaggle-com%2540kaggle-161607.iam.gserviceaccount.com%252F20240302%252Fauto%252Fstorage%252Fgoog4_request%26X-Goog-Date%3D20240302T075424Z%26X-Goog-Expires%3D259200%26X-Goog-SignedHeaders%3Dhost%26X-Goog-Signature%3D5f09768e3a0a3b471864aeb8d06919124207906b944e08cc8036131780cd9c6c060fa1682abaf08c06cc5bf40fafcadff758dc2bd4ac4a5c80fb4338543d72594887b124078dbd751568532dd6e1a71ff24519b2e061cd091b2350836deb113b44de127b59a99acd010047a7c75b2ea3cee0222799e7df5bf70971a701e1a6e57c97672500d046e077104c318e3f6cce77acd30b3a102215a1607459841a748bdaefff0a55473930ffca2a0927b4bb1a02129e083f91e18cbb8936c28ced9059dbe84f291e12ab6ac8376745224eb6d193188a7dd24381fa40b2e0d513c595579777340b2b8e8a62a34f59616f588a4d77276b5f1d3cdf6ccac3757aa815ba7e'\n",
        "\n",
        "KAGGLE_INPUT_PATH='/kaggle/input'\n",
        "KAGGLE_WORKING_PATH='/kaggle/working'\n",
        "KAGGLE_SYMLINK='kaggle'\n",
        "\n",
        "!umount /kaggle/input/ 2> /dev/null\n",
        "shutil.rmtree('/kaggle/input', ignore_errors=True)\n",
        "os.makedirs(KAGGLE_INPUT_PATH, 0o777, exist_ok=True)\n",
        "os.makedirs(KAGGLE_WORKING_PATH, 0o777, exist_ok=True)\n",
        "\n",
        "try:\n",
        "  os.symlink(KAGGLE_INPUT_PATH, os.path.join(\"..\", 'input'), target_is_directory=True)\n",
        "except FileExistsError:\n",
        "  pass\n",
        "try:\n",
        "  os.symlink(KAGGLE_WORKING_PATH, os.path.join(\"..\", 'working'), target_is_directory=True)\n",
        "except FileExistsError:\n",
        "  pass\n",
        "\n",
        "for data_source_mapping in DATA_SOURCE_MAPPING.split(','):\n",
        "    directory, download_url_encoded = data_source_mapping.split(':')\n",
        "    download_url = unquote(download_url_encoded)\n",
        "    filename = urlparse(download_url).path\n",
        "    destination_path = os.path.join(KAGGLE_INPUT_PATH, directory)\n",
        "    try:\n",
        "        with urlopen(download_url) as fileres, NamedTemporaryFile() as tfile:\n",
        "            total_length = fileres.headers['content-length']\n",
        "            print(f'Downloading {directory}, {total_length} bytes compressed')\n",
        "            dl = 0\n",
        "            data = fileres.read(CHUNK_SIZE)\n",
        "            while len(data) > 0:\n",
        "                dl += len(data)\n",
        "                tfile.write(data)\n",
        "                done = int(50 * dl / int(total_length))\n",
        "                sys.stdout.write(f\"\\r[{'=' * done}{' ' * (50-done)}] {dl} bytes downloaded\")\n",
        "                sys.stdout.flush()\n",
        "                data = fileres.read(CHUNK_SIZE)\n",
        "            if filename.endswith('.zip'):\n",
        "              with ZipFile(tfile) as zfile:\n",
        "                zfile.extractall(destination_path)\n",
        "            else:\n",
        "              with tarfile.open(tfile.name) as tarfile:\n",
        "                tarfile.extractall(destination_path)\n",
        "            print(f'\\nDownloaded and uncompressed: {directory}')\n",
        "    except HTTPError as e:\n",
        "        print(f'Failed to load (likely expired) {download_url} to path {destination_path}')\n",
        "        continue\n",
        "    except OSError as e:\n",
        "        print(f'Failed to load {download_url} to path {destination_path}')\n",
        "        continue\n",
        "\n",
        "print('Data source import complete.')\n"
      ],
      "metadata": {
        "id": "emjfrZsGKKHo"
      },
      "cell_type": "code",
      "outputs": [],
      "execution_count": null
    },
    {
      "cell_type": "code",
      "source": [
        "import warnings\n",
        "warnings.filterwarnings(\"ignore\")"
      ],
      "metadata": {
        "execution": {
          "iopub.status.busy": "2024-03-02T01:48:05.189334Z",
          "iopub.execute_input": "2024-03-02T01:48:05.190104Z",
          "iopub.status.idle": "2024-03-02T01:48:05.228581Z",
          "shell.execute_reply.started": "2024-03-02T01:48:05.19007Z",
          "shell.execute_reply": "2024-03-02T01:48:05.227382Z"
        },
        "trusted": true,
        "id": "9OoyGHqTKKHp"
      },
      "execution_count": null,
      "outputs": []
    },
    {
      "cell_type": "code",
      "source": [
        "import pandas as pd\n",
        "import numpy as np\n",
        "pd.set_option('display.max_columns', 100)\n",
        "\n",
        "train = pd.read_csv('/kaggle/input/widsdatathon2024-challenge1/training.csv')\n",
        "test = pd.read_csv('/kaggle/input/widsdatathon2024-challenge1/test.csv')\n",
        "train.drop(columns=['patient_id'],inplace=True)\n",
        "test.drop(columns=['patient_id'],inplace=True)\n",
        "\n",
        "\n",
        "numerical_cols = train.select_dtypes(exclude=['object']).columns\n",
        "categorical_columns = train.select_dtypes(include=['object']).columns"
      ],
      "metadata": {
        "execution": {
          "iopub.status.busy": "2024-03-02T01:48:05.231187Z",
          "iopub.execute_input": "2024-03-02T01:48:05.231641Z",
          "iopub.status.idle": "2024-03-02T01:48:07.423221Z",
          "shell.execute_reply.started": "2024-03-02T01:48:05.231599Z",
          "shell.execute_reply": "2024-03-02T01:48:07.422011Z"
        },
        "trusted": true,
        "id": "BAzErm6zKKHp"
      },
      "execution_count": null,
      "outputs": []
    },
    {
      "cell_type": "code",
      "source": [
        "# Impute categorical columns using mode\n",
        "for col in categorical_columns:\n",
        "    if col != 'DiagPeriodL90D':\n",
        "        mode = train[col].mode()[0]\n",
        "        train[col].fillna(mode, inplace=True)\n",
        "        test[col].fillna(mode, inplace=True)\n",
        "\n",
        "# Impute numerical columns using mean\n",
        "for col in numerical_cols:\n",
        "    if col != 'DiagPeriodL90D':\n",
        "        mean = train[col].mean()\n",
        "        train[col].fillna(mean, inplace=True)\n",
        "        test[col].fillna(mean, inplace=True)"
      ],
      "metadata": {
        "execution": {
          "iopub.status.busy": "2024-03-02T01:48:07.42447Z",
          "iopub.execute_input": "2024-03-02T01:48:07.424807Z",
          "iopub.status.idle": "2024-03-02T01:48:07.538162Z",
          "shell.execute_reply.started": "2024-03-02T01:48:07.424777Z",
          "shell.execute_reply": "2024-03-02T01:48:07.537108Z"
        },
        "trusted": true,
        "id": "4WFrg6KgKKHq"
      },
      "execution_count": null,
      "outputs": []
    },
    {
      "cell_type": "code",
      "source": [
        "test['DiagPeriodL90D'] = 2\n",
        "df = pd.concat([train,test])"
      ],
      "metadata": {
        "execution": {
          "iopub.status.busy": "2024-03-02T01:48:07.539623Z",
          "iopub.execute_input": "2024-03-02T01:48:07.540644Z",
          "iopub.status.idle": "2024-03-02T01:48:07.560101Z",
          "shell.execute_reply.started": "2024-03-02T01:48:07.540609Z",
          "shell.execute_reply": "2024-03-02T01:48:07.558262Z"
        },
        "trusted": true,
        "id": "JbEfvZvLKKHq"
      },
      "execution_count": null,
      "outputs": []
    },
    {
      "cell_type": "code",
      "source": [
        "from sklearn.preprocessing import OrdinalEncoder\n",
        "\n",
        "\n",
        "# Initialize the encoder\n",
        "encoder = OrdinalEncoder(handle_unknown='use_encoded_value', unknown_value=-1)\n",
        "# Loop through each categorical column\n",
        "for col in categorical_columns.to_list()+['patient_zip3']:\n",
        "    # Fit the encoder on the training data\n",
        "    encoder.fit(df[[col]])\n",
        "\n",
        "    # Transform both training and test data\n",
        "    df[col] = encoder.transform(df[[col]])\n",
        "\n",
        "cols = ['breast_cancer_diagnosis_code','metastatic_cancer_diagnosis_code','patient_zip3','patient_age','payer_type',\n",
        "        'patient_state','breast_cancer_diagnosis_desc', 'Division','bmi'\n",
        "        ]\n",
        "\n",
        "train = df[df['DiagPeriodL90D']!=2]\n",
        "test = df[df['DiagPeriodL90D']==2].drop(columns=['DiagPeriodL90D'])"
      ],
      "metadata": {
        "execution": {
          "iopub.status.busy": "2024-03-02T01:48:07.565155Z",
          "iopub.execute_input": "2024-03-02T01:48:07.566179Z",
          "iopub.status.idle": "2024-03-02T01:48:09.435733Z",
          "shell.execute_reply.started": "2024-03-02T01:48:07.566142Z",
          "shell.execute_reply": "2024-03-02T01:48:09.434357Z"
        },
        "trusted": true,
        "id": "qzg3zIi2KKHq"
      },
      "execution_count": null,
      "outputs": []
    },
    {
      "cell_type": "code",
      "source": [
        "from sklearn.model_selection import StratifiedKFold\n",
        "from sklearn.metrics import roc_auc_score\n",
        "from catboost import CatBoostClassifier\n",
        "import numpy as np\n",
        "X = train[cols+['DiagPeriodL90D']].drop(columns=['DiagPeriodL90D'], axis=1)\n",
        "y = train['DiagPeriodL90D']\n",
        "\n",
        "\n",
        "# Stratejik çapraz doğrulaama için katlama ayarları\n",
        "cv = StratifiedKFold(n_splits=5, shuffle=True, random_state=42)\n",
        "\n",
        "# Model için parametreler\n",
        "params = {\n",
        "\n",
        "    'depth':4,\n",
        "    'random_state': 42,\n",
        "    'eval_metric': 'AUC',\n",
        "    'verbose': False,\n",
        "    'loss_function': 'Logloss',\n",
        "    'learning_rate':0.4,\n",
        "    'iterations':300,\n",
        "    'border_count':1024\n",
        "}\n",
        "\n",
        "# AUC skorlarını saklamak için bir liste\n",
        "auc_scores = []\n",
        "test_preds = []\n",
        "for train_idx, test_idx in cv.split(X, y):\n",
        "    X_train, X_test = X.iloc[train_idx], X.iloc[test_idx]\n",
        "    y_train, y_test = y.iloc[train_idx], y.iloc[test_idx]\n",
        "\n",
        "    # CatBoost sınıflandırıcısını başlat\n",
        "    model = CatBoostClassifier(**params)\n",
        "\n",
        "    # Modeli eğit\n",
        "    model.fit(X_train, y_train, eval_set=(X_test, y_test), use_best_model=True)\n",
        "\n",
        "    # Tahminleri yap\n",
        "    preds = model.predict_proba(X_test)[:, 1]\n",
        "    preds_test = model.predict_proba(test[cols])[:, 1]\n",
        "    test_preds.append(preds_test)\n",
        "    # AUC skorunu hesapla\n",
        "    auc_score = roc_auc_score(y_test, preds)\n",
        "    auc_scores.append(auc_score)\n",
        "    print(f\"AUC Score: {auc_score}\")\n",
        "\n",
        "# Ortalama AUC skorunu yazdır\n",
        "print(f\"Ortalama AUC Skoru: {np.mean(auc_scores)}\")\n",
        "print(pd.DataFrame([1 if prob >= 0.5 else 0 for prob in np.mean(test_preds,axis=0)], columns=['test_preds'])['test_preds'].value_counts())"
      ],
      "metadata": {
        "execution": {
          "iopub.status.busy": "2024-03-02T01:48:09.437387Z",
          "iopub.execute_input": "2024-03-02T01:48:09.437859Z",
          "iopub.status.idle": "2024-03-02T01:48:18.095966Z",
          "shell.execute_reply.started": "2024-03-02T01:48:09.43782Z",
          "shell.execute_reply": "2024-03-02T01:48:18.094731Z"
        },
        "trusted": true,
        "id": "Xy6F1E05KKHq"
      },
      "execution_count": null,
      "outputs": []
    },
    {
      "cell_type": "code",
      "source": [
        "submission = pd.read_csv('/kaggle/input/widsdatathon2024-challenge1/sample_submission.csv')\n",
        "submission['DiagPeriodL90D'] = np.mean(test_preds,axis=0)\n",
        "submission.to_csv('submission.csv',index=False)"
      ],
      "metadata": {
        "execution": {
          "iopub.status.busy": "2024-03-02T01:48:18.09774Z",
          "iopub.execute_input": "2024-03-02T01:48:18.098218Z",
          "iopub.status.idle": "2024-03-02T01:48:18.137028Z",
          "shell.execute_reply.started": "2024-03-02T01:48:18.098172Z",
          "shell.execute_reply": "2024-03-02T01:48:18.135451Z"
        },
        "trusted": true,
        "id": "uQiKUT3hKKHq"
      },
      "execution_count": null,
      "outputs": []
    },
    {
      "cell_type": "code",
      "source": [],
      "metadata": {
        "id": "gbQAZ7U7KKHr"
      },
      "execution_count": null,
      "outputs": []
    }
  ]
}